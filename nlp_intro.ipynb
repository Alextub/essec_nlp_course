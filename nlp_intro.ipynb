{
 "cells": [
  {
   "cell_type": "markdown",
   "metadata": {
    "slideshow": {
     "slide_type": "slide"
    }
   },
   "source": [
    "# Introduction to Natural Language Processing (NLP)\n",
    "\n",
    "---\n",
    "* Rémy Frenoy\n",
    "* https://www.linkedin.com/in/rfrenoy/\n",
    "* https://github.com/rfrenoy\n",
    "* https://github.com/rfrenoy/essec_nlp_course\n",
    "\n",
    "---"
   ]
  },
  {
   "cell_type": "markdown",
   "metadata": {
    "slideshow": {
     "slide_type": "slide"
    }
   },
   "source": [
    "# Disclaimer\n",
    "\n",
    "* Lot of content in a little time\n",
    "* Focus on main ideas, lot of links to best resources I know if you want to discover more.\n",
    "* All content is available, at the end I'll show you how to run the code on your laptops\n",
    "* Inspired from [Kaggle intro course on NLP](https://www.kaggle.com/learn/natural-language-processing) and [PyTorch tutorials on NLP](https://pytorch.org/tutorials/intermediate/char_rnn_classification_tutorial.html)"
   ]
  },
  {
   "cell_type": "markdown",
   "metadata": {
    "slideshow": {
     "slide_type": "slide"
    }
   },
   "source": [
    "# Why is NLP an important Topic?\n",
    "\n",
    "* Close relationship between language and knowledge\n",
    "* Historical domain for AI (Turing test)\n",
    "* Most data is textual\n",
    "* Data is knowledge, data is textual, knowledge is power, so understanding text is... power"
   ]
  },
  {
   "cell_type": "markdown",
   "metadata": {
    "slideshow": {
     "slide_type": "slide"
    }
   },
   "source": [
    "# NLP and machine learning"
   ]
  },
  {
   "cell_type": "markdown",
   "metadata": {
    "slideshow": {
     "slide_type": "subslide"
    }
   },
   "source": [
    "## What's machine learning?"
   ]
  },
  {
   "cell_type": "markdown",
   "metadata": {
    "slideshow": {
     "slide_type": "fragment"
    }
   },
   "source": [
    "Tom Mitchell: *\"A computer program is said to learn from experience E with respect to some class of tasks T and performance measure P if its performance at tasks in T, as measured by P, improves with experience E\"*"
   ]
  },
  {
   "cell_type": "markdown",
   "metadata": {
    "slideshow": {
     "slide_type": "fragment"
    }
   },
   "source": [
    "* Experience E -> new data\n",
    "* Class of task T -> Classification, generation, translation, ...\n",
    "* Performance P -> How good the model is at doing T"
   ]
  },
  {
   "cell_type": "markdown",
   "metadata": {
    "slideshow": {
     "slide_type": "subslide"
    }
   },
   "source": [
    "The big difference between machine learning and \"classical\" programming is the fact that *we cannot explicitely program the rules* (it wouldn't evolve with experience *E*). So how do we find the rules?\n",
    "\n",
    "Instead of computing a result based on a set of predefined criteria, let's say \"if the flat is located in the 5th arrondissement of Paris, then its value per square meter is 13000 euros\", we will construct some *\"vector of criteria\"* and some *\"vector of weights\"*, and our output will be the inner product of the two.\n",
    "\n",
    "We will **optimize** the choice of values for our vector of weights to *minimize some cost function*, generally using [gradient descent](https://youtu.be/AeRwohPuUHQ)."
   ]
  },
  {
   "cell_type": "markdown",
   "metadata": {
    "slideshow": {
     "slide_type": "subslide"
    }
   },
   "source": [
    "## An example of regression\n",
    "\n",
    "|    |   arrondissement |   floor |   max floor in building |   price per meter square |\n",
    "|---:|-----------------:|--------:|------------------------:|-------------------------:|\n",
    "|  0 |               17 |       7 |                       7 |                    11000 |\n",
    "|  1 |                5 |       1 |                       7 |                    10000 |\n",
    "|  2 |                3 |       4 |                       4 |                    13000 |\n",
    "|  3 |               20 |       2 |                       3 |                     9500 |\n",
    "|  4 |               19 |      11 |                      20 |                     8700 |\n",
    "|  5 |               17 |       1 |                       6 |                     8000 |"
   ]
  },
  {
   "cell_type": "markdown",
   "metadata": {
    "slideshow": {
     "slide_type": "fragment"
    }
   },
   "source": [
    "Our model will try to find the price from the three first kinds of information. We can express our loss as some kind of difference between the predicted price and the real price, choose the loss function wisely so as to be able to compute gradient descent on it."
   ]
  },
  {
   "cell_type": "markdown",
   "metadata": {
    "slideshow": {
     "slide_type": "subslide"
    }
   },
   "source": [
    "## What about now?\n",
    "\n",
    "|    |   id | text                                                                                                                                  |   is real disaster? |\n",
    "|---:|-----:|:--------------------------------------------------------------------------------------------------------------------------------------|--------------------:|\n",
    "|  0 |    1 | Our Deeds are the Reason of this #earthquake May ALLAH Forgive us all                                                                 |                   1 |\n",
    "|  1 |    4 | Forest fire near La Ronge Sask. Canada                                                                                                |                   1 |\n",
    "|  2 |    5 | All residents asked to 'shelter in place' are being notified by officers. No other evacuation or shelter in place orders are expected |                   1 |\n",
    "|  3 |    6 | 13,000 people receive #wildfires evacuation orders in California                                                                      |                   1 |\n",
    "|  4 |    7 | Just got sent this photo from Ruby #Alaska as smoke from #wildfires pours into a school                                               |                   1 |\n"
   ]
  },
  {
   "cell_type": "markdown",
   "metadata": {
    "slideshow": {
     "slide_type": "slide"
    }
   },
   "source": [
    "# Data Preparation"
   ]
  },
  {
   "cell_type": "markdown",
   "metadata": {
    "slideshow": {
     "slide_type": "fragment"
    }
   },
   "source": [
    "NLP may be the domain where data preparation has the biggest impact on performance. Choices made during this phase can make the difference between a bad, a good and an excellent model. "
   ]
  },
  {
   "cell_type": "markdown",
   "metadata": {
    "slideshow": {
     "slide_type": "fragment"
    }
   },
   "source": [
    "**Choices made during data preparation depends on the context studied.**"
   ]
  },
  {
   "cell_type": "markdown",
   "metadata": {
    "slideshow": {
     "slide_type": "fragment"
    }
   },
   "source": [
    "*Example: It is usually good practice to standardize the text and put everything in lower or upper case. But if you are trying to classify toxic comments, case carry signal, and this phase of standardization will lower your final model performances.*"
   ]
  },
  {
   "cell_type": "markdown",
   "metadata": {
    "slideshow": {
     "slide_type": "subslide"
    }
   },
   "source": [
    "## Extracting data and format it with regular expression"
   ]
  },
  {
   "cell_type": "code",
   "execution_count": 1,
   "metadata": {
    "slideshow": {
     "slide_type": "fragment"
    }
   },
   "outputs": [],
   "source": [
    "import pandas as pd\n",
    "fake_operation_data = pd.read_excel('fake_operation_data.xlsx')"
   ]
  },
  {
   "cell_type": "code",
   "execution_count": 2,
   "metadata": {
    "slideshow": {
     "slide_type": "fragment"
    }
   },
   "outputs": [
    {
     "name": "stdout",
     "output_type": "stream",
     "text": [
      "|    | timestamp           | comment                                                                          |\n",
      "|---:|:--------------------|:---------------------------------------------------------------------------------|\n",
      "|  0 | 2020-01-01 00:00:00 | NTR                                                                              |\n",
      "|  1 | 2020-01-02 00:00:00 | Nothing to report                                                                |\n",
      "|  2 | 2020-01-03 00:00:00 | - Broke element on machine A, need to repair                                    |\n",
      "|    |                     | '- Something weird going on on machine D, don't know what, should investigate 😰 |\n",
      "|    |                     | '- Everything ok on other equipments                                            |\n"
     ]
    }
   ],
   "source": [
    "print(fake_operation_data.to_markdown())"
   ]
  },
  {
   "cell_type": "code",
   "execution_count": 3,
   "metadata": {
    "slideshow": {
     "slide_type": "subslide"
    }
   },
   "outputs": [],
   "source": [
    "def sanitize_comments(raw_df):\n",
    "    import re\n",
    "    new_lines = []\n",
    "    for i, row in raw_df.iterrows():\n",
    "        # p = re.compile(r\"'?\\-? ?([\\w | |'|,]*)\", re.IGNORECASE)\n",
    "        p = re.compile(r\"'?\\-? ?(.*)\", re.IGNORECASE)\n",
    "        new_line_comments = [match for match in p.findall(row.comment) \n",
    "                             if match != '']\n",
    "        new_lines.append(pd.DataFrame({'timestamp': [row.timestamp] * len(new_line_comments),\n",
    "                                       'comment': new_line_comments}))\n",
    "    return pd.concat(new_lines)"
   ]
  },
  {
   "cell_type": "code",
   "execution_count": 4,
   "metadata": {
    "slideshow": {
     "slide_type": "fragment"
    }
   },
   "outputs": [
    {
     "name": "stdout",
     "output_type": "stream",
     "text": [
      "|    | timestamp           | comment                                                                       |\n",
      "|---:|:--------------------|:------------------------------------------------------------------------------|\n",
      "|  0 | 2020-01-01 00:00:00 | NTR                                                                           |\n",
      "|  0 | 2020-01-02 00:00:00 | Nothing to report                                                             |\n",
      "|  0 | 2020-01-03 00:00:00 | Broke element on machine A, need to repair                                    |\n",
      "|  1 | 2020-01-03 00:00:00 | Something weird going on on machine D, don't know what, should investigate 😰 |\n",
      "|  2 | 2020-01-03 00:00:00 | Everything ok on other equipments                                             |\n"
     ]
    }
   ],
   "source": [
    "cleaned_df = sanitize_comments(fake_operation_data)\n",
    "print(cleaned_df.to_markdown())"
   ]
  },
  {
   "cell_type": "markdown",
   "metadata": {
    "slideshow": {
     "slide_type": "subslide"
    }
   },
   "source": [
    "A lot of tools exist for you to quickly test your regular expressions, such as https://regex101.com/. The library documentation is available on https://docs.python.org/3/howto/regex.html."
   ]
  },
  {
   "cell_type": "markdown",
   "metadata": {
    "slideshow": {
     "slide_type": "subslide"
    }
   },
   "source": [
    "## Tokenisation, lemmatization, stop words, ...\n",
    "\n",
    "There are a lot of words in a vocabulary, some carrying more meaning than others. The goal of tokenisation is to separate sentences into terms. Lemmatization tries to standardize family of words to their common root to reduce the number of dimensionalities (= making the problem simpler). Stop words remove the words that appear so often that they should not carry differentiating meaning.\n",
    "\n",
    "**Treat this with care!**"
   ]
  },
  {
   "cell_type": "code",
   "execution_count": 5,
   "metadata": {
    "slideshow": {
     "slide_type": "fragment"
    }
   },
   "outputs": [],
   "source": [
    "import spacy\n",
    "nlp = spacy.load('en')"
   ]
  },
  {
   "cell_type": "code",
   "execution_count": 6,
   "metadata": {
    "slideshow": {
     "slide_type": "subslide"
    }
   },
   "outputs": [
    {
     "name": "stdout",
     "output_type": "stream",
     "text": [
      "Something weird going on on machine D, don't know what, should investigate 😰\n",
      "---\n",
      "Something\n",
      "weird\n",
      "going\n",
      "on\n",
      "on\n",
      "machine\n",
      "D\n",
      ",\n",
      "do\n",
      "n't\n",
      "know\n",
      "what\n",
      ",\n",
      "should\n",
      "investigate\n",
      "😰\n",
      "\n"
     ]
    }
   ],
   "source": [
    "text = cleaned_df.comment.iloc[3]\n",
    "print(text)\n",
    "print('---')\n",
    "doc = nlp(text)\n",
    "for token in doc:\n",
    "    print(token)\n",
    "print()"
   ]
  },
  {
   "cell_type": "code",
   "execution_count": 7,
   "metadata": {
    "slideshow": {
     "slide_type": "subslide"
    }
   },
   "outputs": [
    {
     "name": "stdout",
     "output_type": "stream",
     "text": [
      "     Token\t     Lemma\t  Stopword\tPunctuation\n",
      "--------------------------------------------------------------------------------\n",
      " Something\t something\t      True\t     False\n",
      "     weird\t     weird\t     False\t     False\n",
      "     going\t        go\t     False\t     False\n",
      "        on\t        on\t      True\t     False\n",
      "        on\t        on\t      True\t     False\n",
      "   machine\t   machine\t     False\t     False\n",
      "         D\t         d\t     False\t     False\n",
      "         ,\t         ,\t     False\t      True\n",
      "        do\t        do\t      True\t     False\n",
      "       n't\t       not\t      True\t     False\n",
      "      know\t      know\t     False\t     False\n",
      "      what\t      what\t      True\t     False\n",
      "         ,\t         ,\t     False\t      True\n",
      "    should\t    should\t      True\t     False\n",
      "investigate\tinvestigate\t     False\t     False\n",
      "         😰\t         😰\t     False\t     False\n",
      "\n"
     ]
    }
   ],
   "source": [
    "text = cleaned_df.comment.iloc[3]\n",
    "print(\"{:>10s}\\t{:>10s}\\t{:>10s}\\t{:>10s}\".format('Token', 'Lemma', 'Stopword', 'Punctuation'))\n",
    "print(\"-\"*80)\n",
    "doc = nlp(text)\n",
    "for token in doc:\n",
    "    print(\"{:>10s}\\t{:>10s}\\t{:>10s}\\t{:>10s}\".format(str(token), str(token.lemma_), str(token.is_stop), str(token.is_punct)))\n",
    "print()"
   ]
  },
  {
   "cell_type": "code",
   "execution_count": 8,
   "metadata": {
    "slideshow": {
     "slide_type": "subslide"
    }
   },
   "outputs": [
    {
     "name": "stdout",
     "output_type": "stream",
     "text": [
      "weird\n",
      "going\n",
      "machine\n",
      "D\n",
      "know\n",
      "investigate\n",
      "😰\n"
     ]
    }
   ],
   "source": [
    "for token in nlp(text):\n",
    "    if not token.is_stop and not token.is_punct:\n",
    "        print(token)"
   ]
  },
  {
   "cell_type": "markdown",
   "metadata": {
    "slideshow": {
     "slide_type": "subslide"
    }
   },
   "source": [
    "## Emojis\n",
    "\n",
    "A good example showing that language is a continuously-evolving domain, the use of emojis is now very common. So common that taking into account the meaning of emojis can have a tremendous impact on your model! (It depends on your context again... If you work for Doctrine, you should not see emojis that often ;-) )"
   ]
  },
  {
   "cell_type": "code",
   "execution_count": 9,
   "metadata": {
    "slideshow": {
     "slide_type": "fragment"
    }
   },
   "outputs": [],
   "source": [
    "import requests\n",
    "import re\n",
    "\n",
    "r = requests.get('https://unicode.org/Public/emoji/12.0/emoji-test.txt')\n",
    "lines = r.text.split('\\n')\n",
    "filtered_lines = [line for line in lines if len(line) > 0 and line[0] != '#']"
   ]
  },
  {
   "cell_type": "code",
   "execution_count": 10,
   "metadata": {
    "slideshow": {
     "slide_type": "subslide"
    }
   },
   "outputs": [
    {
     "data": {
      "text/plain": [
       "['1F600                                      ; fully-qualified     # 😀 grinning face',\n",
       " '1F603                                      ; fully-qualified     # 😃 grinning face with big eyes',\n",
       " '1F604                                      ; fully-qualified     # 😄 grinning face with smiling eyes',\n",
       " '1F601                                      ; fully-qualified     # 😁 beaming face with smiling eyes',\n",
       " '1F606                                      ; fully-qualified     # 😆 grinning squinting face']"
      ]
     },
     "execution_count": 10,
     "metadata": {},
     "output_type": "execute_result"
    }
   ],
   "source": [
    "filtered_lines[:5]"
   ]
  },
  {
   "cell_type": "code",
   "execution_count": 11,
   "metadata": {
    "slideshow": {
     "slide_type": "subslide"
    }
   },
   "outputs": [],
   "source": [
    "p = re.compile(\".*# ([^\\s])* (.*)\")\n",
    "code, meaning = zip(*[p.findall(line)[0] for line in filtered_lines])"
   ]
  },
  {
   "cell_type": "code",
   "execution_count": 12,
   "metadata": {
    "slideshow": {
     "slide_type": "fragment"
    }
   },
   "outputs": [],
   "source": [
    "my_emoji_translator = {c: meaning[i] for i,c in enumerate(code)}"
   ]
  },
  {
   "cell_type": "code",
   "execution_count": 13,
   "metadata": {
    "slideshow": {
     "slide_type": "fragment"
    }
   },
   "outputs": [
    {
     "data": {
      "text/plain": [
       "{'😀': 'grinning face',\n",
       " '😃': 'grinning face with big eyes',\n",
       " '😄': 'grinning face with smiling eyes',\n",
       " '😁': 'beaming face with smiling eyes',\n",
       " '😆': 'grinning squinting face',\n",
       " '😅': 'grinning face with sweat',\n",
       " '🤣': 'rolling on the floor laughing',\n",
       " '😂': 'face with tears of joy',\n",
       " '🙂': 'slightly smiling face',\n",
       " '🙃': 'upside-down face',\n",
       " '😉': 'winking face',\n",
       " '😊': 'smiling face with smiling eyes',\n",
       " '😇': 'smiling face with halo',\n",
       " '🥰': 'smiling face with hearts',\n",
       " '😍': 'smiling face with heart-eyes',\n",
       " '🤩': 'star-struck',\n",
       " '😘': 'face blowing a kiss',\n",
       " '😗': 'kissing face',\n",
       " '️': 'pirate flag',\n",
       " '☺': 'smiling face',\n",
       " '😚': 'kissing face with closed eyes',\n",
       " '😙': 'kissing face with smiling eyes',\n",
       " '😋': 'face savoring food',\n",
       " '😛': 'face with tongue',\n",
       " '😜': 'winking face with tongue',\n",
       " '🤪': 'zany face',\n",
       " '😝': 'squinting face with tongue',\n",
       " '🤑': 'money-mouth face',\n",
       " '🤗': 'hugging face',\n",
       " '🤭': 'face with hand over mouth',\n",
       " '🤫': 'shushing face',\n",
       " '🤔': 'thinking face',\n",
       " '🤐': 'zipper-mouth face',\n",
       " '🤨': 'face with raised eyebrow',\n",
       " '😐': 'neutral face',\n",
       " '😑': 'expressionless face',\n",
       " '😶': 'face without mouth',\n",
       " '😏': 'smirking face',\n",
       " '😒': 'unamused face',\n",
       " '🙄': 'face with rolling eyes',\n",
       " '😬': 'grimacing face',\n",
       " '🤥': 'lying face',\n",
       " '😌': 'relieved face',\n",
       " '😔': 'pensive face',\n",
       " '😪': 'sleepy face',\n",
       " '🤤': 'drooling face',\n",
       " '😴': 'sleeping face',\n",
       " '😷': 'face with medical mask',\n",
       " '🤒': 'face with thermometer',\n",
       " '🤕': 'face with head-bandage',\n",
       " '🤢': 'nauseated face',\n",
       " '🤮': 'face vomiting',\n",
       " '🤧': 'sneezing face',\n",
       " '🥵': 'hot face',\n",
       " '🥶': 'cold face',\n",
       " '🥴': 'woozy face',\n",
       " '😵': 'dizzy face',\n",
       " '🤯': 'exploding head',\n",
       " '🤠': 'cowboy hat face',\n",
       " '🥳': 'partying face',\n",
       " '😎': 'smiling face with sunglasses',\n",
       " '🤓': 'nerd face',\n",
       " '🧐': 'face with monocle',\n",
       " '😕': 'confused face',\n",
       " '😟': 'worried face',\n",
       " '🙁': 'slightly frowning face',\n",
       " '☹': 'frowning face',\n",
       " '😮': 'face with open mouth',\n",
       " '😯': 'hushed face',\n",
       " '😲': 'astonished face',\n",
       " '😳': 'flushed face',\n",
       " '🥺': 'pleading face',\n",
       " '😦': 'frowning face with open mouth',\n",
       " '😧': 'anguished face',\n",
       " '😨': 'fearful face',\n",
       " '😰': 'anxious face with sweat',\n",
       " '😥': 'sad but relieved face',\n",
       " '😢': 'crying face',\n",
       " '😭': 'loudly crying face',\n",
       " '😱': 'face screaming in fear',\n",
       " '😖': 'confounded face',\n",
       " '😣': 'persevering face',\n",
       " '😞': 'disappointed face',\n",
       " '😓': 'downcast face with sweat',\n",
       " '😩': 'weary face',\n",
       " '😫': 'tired face',\n",
       " '\\U0001f971': 'yawning face',\n",
       " '😤': 'face with steam from nose',\n",
       " '😡': 'pouting face',\n",
       " '😠': 'angry face',\n",
       " '🤬': 'face with symbols on mouth',\n",
       " '😈': 'smiling face with horns',\n",
       " '👿': 'angry face with horns',\n",
       " '💀': 'skull',\n",
       " '☠': 'pirate flag',\n",
       " '💩': 'pile of poo',\n",
       " '🤡': 'clown face',\n",
       " '👹': 'ogre',\n",
       " '👺': 'goblin',\n",
       " '👻': 'ghost',\n",
       " '👽': 'alien',\n",
       " '👾': 'alien monster',\n",
       " '🤖': 'robot',\n",
       " '😺': 'grinning cat',\n",
       " '😸': 'grinning cat with smiling eyes',\n",
       " '😹': 'cat with tears of joy',\n",
       " '😻': 'smiling cat with heart-eyes',\n",
       " '😼': 'cat with wry smile',\n",
       " '😽': 'kissing cat',\n",
       " '🙀': 'weary cat',\n",
       " '😿': 'crying cat',\n",
       " '😾': 'pouting cat',\n",
       " '🙈': 'see-no-evil monkey',\n",
       " '🙉': 'hear-no-evil monkey',\n",
       " '🙊': 'speak-no-evil monkey',\n",
       " '💋': 'kiss mark',\n",
       " '💌': 'love letter',\n",
       " '💘': 'heart with arrow',\n",
       " '💝': 'heart with ribbon',\n",
       " '💖': 'sparkling heart',\n",
       " '💗': 'growing heart',\n",
       " '💓': 'beating heart',\n",
       " '💞': 'revolving hearts',\n",
       " '💕': 'two hearts',\n",
       " '💟': 'heart decoration',\n",
       " '❣': 'heart exclamation',\n",
       " '💔': 'broken heart',\n",
       " '❤': 'red heart',\n",
       " '🧡': 'orange heart',\n",
       " '💛': 'yellow heart',\n",
       " '💚': 'green heart',\n",
       " '💙': 'blue heart',\n",
       " '💜': 'purple heart',\n",
       " '\\U0001f90e': 'brown heart',\n",
       " '🖤': 'black heart',\n",
       " '\\U0001f90d': 'white heart',\n",
       " '💯': 'hundred points',\n",
       " '💢': 'anger symbol',\n",
       " '💥': 'collision',\n",
       " '💫': 'dizzy',\n",
       " '💦': 'sweat droplets',\n",
       " '💨': 'dashing away',\n",
       " '🕳': 'hole',\n",
       " '💣': 'bomb',\n",
       " '💬': 'speech balloon',\n",
       " '🗨': 'left speech bubble',\n",
       " '🗯': 'right anger bubble',\n",
       " '💭': 'thought balloon',\n",
       " '💤': 'zzz',\n",
       " '👋': 'waving hand',\n",
       " '🏻': 'light skin tone',\n",
       " '🏼': 'medium-light skin tone',\n",
       " '🏽': 'medium skin tone',\n",
       " '🏾': 'medium-dark skin tone',\n",
       " '🏿': 'dark skin tone',\n",
       " '🤚': 'raised back of hand',\n",
       " '🖐': 'hand with fingers splayed',\n",
       " '✋': 'raised hand',\n",
       " '🖖': 'vulcan salute',\n",
       " '👌': 'OK hand',\n",
       " '\\U0001f90f': 'pinching hand',\n",
       " '✌': 'victory hand',\n",
       " '🤞': 'crossed fingers',\n",
       " '🤟': 'love-you gesture',\n",
       " '🤘': 'sign of the horns',\n",
       " '🤙': 'call me hand',\n",
       " '👈': 'backhand index pointing left',\n",
       " '👉': 'backhand index pointing right',\n",
       " '👆': 'backhand index pointing up',\n",
       " '🖕': 'middle finger',\n",
       " '👇': 'backhand index pointing down',\n",
       " '☝': 'index pointing up',\n",
       " '👍': 'thumbs up',\n",
       " '👎': 'thumbs down',\n",
       " '✊': 'raised fist',\n",
       " '👊': 'oncoming fist',\n",
       " '🤛': 'left-facing fist',\n",
       " '🤜': 'right-facing fist',\n",
       " '👏': 'clapping hands',\n",
       " '🙌': 'raising hands',\n",
       " '👐': 'open hands',\n",
       " '🤲': 'palms up together',\n",
       " '🤝': 'handshake',\n",
       " '🙏': 'folded hands',\n",
       " '✍': 'writing hand',\n",
       " '💅': 'nail polish',\n",
       " '🤳': 'selfie',\n",
       " '💪': 'flexed biceps',\n",
       " '\\U0001f9be': 'mechanical arm',\n",
       " '\\U0001f9bf': 'mechanical leg',\n",
       " '🦵': 'leg',\n",
       " '🦶': 'foot',\n",
       " '👂': 'ear',\n",
       " '\\U0001f9bb': 'ear with hearing aid',\n",
       " '👃': 'nose',\n",
       " '🧠': 'brain',\n",
       " '🦷': 'tooth',\n",
       " '🦴': 'bone',\n",
       " '👀': 'eyes',\n",
       " '👁': 'eye',\n",
       " '👅': 'tongue',\n",
       " '👄': 'mouth',\n",
       " '👶': 'baby',\n",
       " '🧒': 'child',\n",
       " '👦': 'family: woman, girl, boy',\n",
       " '👧': 'family: woman, girl, girl',\n",
       " '🧑': 'people holding hands',\n",
       " '👱': 'person: blond hair',\n",
       " '👨': 'couple with heart: man, man',\n",
       " '🧔': 'man: beard',\n",
       " '♂': 'male sign',\n",
       " '🦰': 'red hair',\n",
       " '🦱': 'curly hair',\n",
       " '🦳': 'white hair',\n",
       " '🦲': 'bald',\n",
       " '👩': 'couple with heart: woman, woman',\n",
       " '♀': 'female sign',\n",
       " '🧓': 'older person',\n",
       " '👴': 'old man',\n",
       " '👵': 'old woman',\n",
       " '🙍': 'person frowning',\n",
       " '🙎': 'person pouting',\n",
       " '🙅': 'person gesturing NO',\n",
       " '🙆': 'person gesturing OK',\n",
       " '💁': 'person tipping hand',\n",
       " '🙋': 'person raising hand',\n",
       " '\\U0001f9cf': 'deaf person',\n",
       " '🙇': 'person bowing',\n",
       " '🤦': 'person facepalming',\n",
       " '🤷': 'person shrugging',\n",
       " '⚕': 'medical symbol',\n",
       " '🎓': 'graduation cap',\n",
       " '🏫': 'school',\n",
       " '⚖': 'balance scale',\n",
       " '🌾': 'sheaf of rice',\n",
       " '🍳': 'cooking',\n",
       " '🔧': 'wrench',\n",
       " '🏭': 'factory',\n",
       " '💼': 'briefcase',\n",
       " '🔬': 'microscope',\n",
       " '💻': 'laptop computer',\n",
       " '🎤': 'microphone',\n",
       " '🎨': 'artist palette',\n",
       " '✈': 'airplane',\n",
       " '🚀': 'rocket',\n",
       " '🚒': 'fire engine',\n",
       " '👮': 'police officer',\n",
       " '🕵': 'detective',\n",
       " '💂': 'guard',\n",
       " '👷': 'construction worker',\n",
       " '🤴': 'prince',\n",
       " '👸': 'princess',\n",
       " '👳': 'person wearing turban',\n",
       " '👲': 'man with Chinese cap',\n",
       " '🧕': 'woman with headscarf',\n",
       " '🤵': 'man in tuxedo',\n",
       " '👰': 'bride with veil',\n",
       " '🤰': 'pregnant woman',\n",
       " '🤱': 'breast-feeding',\n",
       " '👼': 'baby angel',\n",
       " '🎅': 'Santa Claus',\n",
       " '🤶': 'Mrs. Claus',\n",
       " '🦸': 'superhero',\n",
       " '🦹': 'supervillain',\n",
       " '🧙': 'mage',\n",
       " '🧚': 'fairy',\n",
       " '🧛': 'vampire',\n",
       " '🧜': 'merperson',\n",
       " '🧝': 'elf',\n",
       " '🧞': 'genie',\n",
       " '🧟': 'zombie',\n",
       " '💆': 'person getting massage',\n",
       " '💇': 'person getting haircut',\n",
       " '🚶': 'person walking',\n",
       " '\\U0001f9cd': 'person standing',\n",
       " '\\U0001f9ce': 'person kneeling',\n",
       " '\\U0001f9af': 'probing cane',\n",
       " '\\U0001f9bc': 'motorized wheelchair',\n",
       " '\\U0001f9bd': 'manual wheelchair',\n",
       " '🏃': 'person running',\n",
       " '💃': 'woman dancing',\n",
       " '🕺': 'man dancing',\n",
       " '🕴': 'man in suit levitating',\n",
       " '👯': 'people with bunny ears',\n",
       " '🧖': 'person in steamy room',\n",
       " '🧗': 'person climbing',\n",
       " '🤺': 'person fencing',\n",
       " '🏇': 'horse racing',\n",
       " '⛷': 'skier',\n",
       " '🏂': 'snowboarder',\n",
       " '🏌': 'person golfing',\n",
       " '🏄': 'person surfing',\n",
       " '🚣': 'person rowing boat',\n",
       " '🏊': 'person swimming',\n",
       " '⛹': 'person bouncing ball',\n",
       " '🏋': 'person lifting weights',\n",
       " '🚴': 'person biking',\n",
       " '🚵': 'person mountain biking',\n",
       " '🤸': 'person cartwheeling',\n",
       " '🤼': 'people wrestling',\n",
       " '🤽': 'person playing water polo',\n",
       " '🤾': 'person playing handball',\n",
       " '🤹': 'person juggling',\n",
       " '🧘': 'person in lotus position',\n",
       " '🛀': 'person taking bath',\n",
       " '🛌': 'person in bed',\n",
       " '👭': 'women holding hands',\n",
       " '👫': 'woman and man holding hands',\n",
       " '👬': 'men holding hands',\n",
       " '💏': 'kiss',\n",
       " '💑': 'couple with heart',\n",
       " '👪': 'family',\n",
       " '🗣': 'speaking head',\n",
       " '👤': 'bust in silhouette',\n",
       " '👥': 'busts in silhouette',\n",
       " '👣': 'footprints',\n",
       " '🐵': 'monkey face',\n",
       " '🐒': 'monkey',\n",
       " '🦍': 'gorilla',\n",
       " '\\U0001f9a7': 'orangutan',\n",
       " '🐶': 'dog face',\n",
       " '🐕': 'dog',\n",
       " '\\U0001f9ae': 'guide dog',\n",
       " '\\U0001f9ba': 'safety vest',\n",
       " '🐩': 'poodle',\n",
       " '🐺': 'wolf',\n",
       " '🦊': 'fox',\n",
       " '🦝': 'raccoon',\n",
       " '🐱': 'cat face',\n",
       " '🐈': 'cat',\n",
       " '🦁': 'lion',\n",
       " '🐯': 'tiger face',\n",
       " '🐅': 'tiger',\n",
       " '🐆': 'leopard',\n",
       " '🐴': 'horse face',\n",
       " '🐎': 'horse',\n",
       " '🦄': 'unicorn',\n",
       " '🦓': 'zebra',\n",
       " '🦌': 'deer',\n",
       " '🐮': 'cow face',\n",
       " '🐂': 'ox',\n",
       " '🐃': 'water buffalo',\n",
       " '🐄': 'cow',\n",
       " '🐷': 'pig face',\n",
       " '🐖': 'pig',\n",
       " '🐗': 'boar',\n",
       " '🐽': 'pig nose',\n",
       " '🐏': 'ram',\n",
       " '🐑': 'ewe',\n",
       " '🐐': 'goat',\n",
       " '🐪': 'camel',\n",
       " '🐫': 'two-hump camel',\n",
       " '🦙': 'llama',\n",
       " '🦒': 'giraffe',\n",
       " '🐘': 'elephant',\n",
       " '🦏': 'rhinoceros',\n",
       " '🦛': 'hippopotamus',\n",
       " '🐭': 'mouse face',\n",
       " '🐁': 'mouse',\n",
       " '🐀': 'rat',\n",
       " '🐹': 'hamster',\n",
       " '🐰': 'rabbit face',\n",
       " '🐇': 'rabbit',\n",
       " '🐿': 'chipmunk',\n",
       " '🦔': 'hedgehog',\n",
       " '🦇': 'bat',\n",
       " '🐻': 'bear',\n",
       " '🐨': 'koala',\n",
       " '🐼': 'panda',\n",
       " '\\U0001f9a5': 'sloth',\n",
       " '\\U0001f9a6': 'otter',\n",
       " '\\U0001f9a8': 'skunk',\n",
       " '🦘': 'kangaroo',\n",
       " '🦡': 'badger',\n",
       " '🐾': 'paw prints',\n",
       " '🦃': 'turkey',\n",
       " '🐔': 'chicken',\n",
       " '🐓': 'rooster',\n",
       " '🐣': 'hatching chick',\n",
       " '🐤': 'baby chick',\n",
       " '🐥': 'front-facing baby chick',\n",
       " '🐦': 'bird',\n",
       " '🐧': 'penguin',\n",
       " '🕊': 'dove',\n",
       " '🦅': 'eagle',\n",
       " '🦆': 'duck',\n",
       " '🦢': 'swan',\n",
       " '🦉': 'owl',\n",
       " '\\U0001f9a9': 'flamingo',\n",
       " '🦚': 'peacock',\n",
       " '🦜': 'parrot',\n",
       " '🐸': 'frog',\n",
       " '🐊': 'crocodile',\n",
       " '🐢': 'turtle',\n",
       " '🦎': 'lizard',\n",
       " '🐍': 'snake',\n",
       " '🐲': 'dragon face',\n",
       " '🐉': 'dragon',\n",
       " '🦕': 'sauropod',\n",
       " '🦖': 'T-Rex',\n",
       " '🐳': 'spouting whale',\n",
       " '🐋': 'whale',\n",
       " '🐬': 'dolphin',\n",
       " '🐟': 'fish',\n",
       " '🐠': 'tropical fish',\n",
       " '🐡': 'blowfish',\n",
       " '🦈': 'shark',\n",
       " '🐙': 'octopus',\n",
       " '🐚': 'spiral shell',\n",
       " '🐌': 'snail',\n",
       " '🦋': 'butterfly',\n",
       " '🐛': 'bug',\n",
       " '🐜': 'ant',\n",
       " '🐝': 'honeybee',\n",
       " '🐞': 'lady beetle',\n",
       " '🦗': 'cricket',\n",
       " '🕷': 'spider',\n",
       " '🕸': 'spider web',\n",
       " '🦂': 'scorpion',\n",
       " '🦟': 'mosquito',\n",
       " '🦠': 'microbe',\n",
       " '💐': 'bouquet',\n",
       " '🌸': 'cherry blossom',\n",
       " '💮': 'white flower',\n",
       " '🏵': 'rosette',\n",
       " '🌹': 'rose',\n",
       " '🥀': 'wilted flower',\n",
       " '🌺': 'hibiscus',\n",
       " '🌻': 'sunflower',\n",
       " '🌼': 'blossom',\n",
       " '🌷': 'tulip',\n",
       " '🌱': 'seedling',\n",
       " '🌲': 'evergreen tree',\n",
       " '🌳': 'deciduous tree',\n",
       " '🌴': 'palm tree',\n",
       " '🌵': 'cactus',\n",
       " '🌿': 'herb',\n",
       " '☘': 'shamrock',\n",
       " '🍀': 'four leaf clover',\n",
       " '🍁': 'maple leaf',\n",
       " '🍂': 'fallen leaf',\n",
       " '🍃': 'leaf fluttering in wind',\n",
       " '🍇': 'grapes',\n",
       " '🍈': 'melon',\n",
       " '🍉': 'watermelon',\n",
       " '🍊': 'tangerine',\n",
       " '🍋': 'lemon',\n",
       " '🍌': 'banana',\n",
       " '🍍': 'pineapple',\n",
       " '🥭': 'mango',\n",
       " '🍎': 'red apple',\n",
       " '🍏': 'green apple',\n",
       " '🍐': 'pear',\n",
       " '🍑': 'peach',\n",
       " '🍒': 'cherries',\n",
       " '🍓': 'strawberry',\n",
       " '🥝': 'kiwi fruit',\n",
       " '🍅': 'tomato',\n",
       " '🥥': 'coconut',\n",
       " '🥑': 'avocado',\n",
       " '🍆': 'eggplant',\n",
       " '🥔': 'potato',\n",
       " '🥕': 'carrot',\n",
       " '🌽': 'ear of corn',\n",
       " '🌶': 'hot pepper',\n",
       " '🥒': 'cucumber',\n",
       " '🥬': 'leafy green',\n",
       " '🥦': 'broccoli',\n",
       " '\\U0001f9c4': 'garlic',\n",
       " '\\U0001f9c5': 'onion',\n",
       " '🍄': 'mushroom',\n",
       " '🥜': 'peanuts',\n",
       " '🌰': 'chestnut',\n",
       " '🍞': 'bread',\n",
       " '🥐': 'croissant',\n",
       " '🥖': 'baguette bread',\n",
       " '🥨': 'pretzel',\n",
       " '🥯': 'bagel',\n",
       " '🥞': 'pancakes',\n",
       " '\\U0001f9c7': 'waffle',\n",
       " '🧀': 'cheese wedge',\n",
       " '🍖': 'meat on bone',\n",
       " '🍗': 'poultry leg',\n",
       " '🥩': 'cut of meat',\n",
       " '🥓': 'bacon',\n",
       " '🍔': 'hamburger',\n",
       " '🍟': 'french fries',\n",
       " '🍕': 'pizza',\n",
       " '🌭': 'hot dog',\n",
       " '🥪': 'sandwich',\n",
       " '🌮': 'taco',\n",
       " '🌯': 'burrito',\n",
       " '🥙': 'stuffed flatbread',\n",
       " '\\U0001f9c6': 'falafel',\n",
       " '🥚': 'egg',\n",
       " '🥘': 'shallow pan of food',\n",
       " '🍲': 'pot of food',\n",
       " '🥣': 'bowl with spoon',\n",
       " '🥗': 'green salad',\n",
       " '🍿': 'popcorn',\n",
       " '\\U0001f9c8': 'butter',\n",
       " '🧂': 'salt',\n",
       " '🥫': 'canned food',\n",
       " '🍱': 'bento box',\n",
       " '🍘': 'rice cracker',\n",
       " '🍙': 'rice ball',\n",
       " '🍚': 'cooked rice',\n",
       " '🍛': 'curry rice',\n",
       " '🍜': 'steaming bowl',\n",
       " '🍝': 'spaghetti',\n",
       " '🍠': 'roasted sweet potato',\n",
       " '🍢': 'oden',\n",
       " '🍣': 'sushi',\n",
       " '🍤': 'fried shrimp',\n",
       " '🍥': 'fish cake with swirl',\n",
       " '🥮': 'moon cake',\n",
       " '🍡': 'dango',\n",
       " '🥟': 'dumpling',\n",
       " '🥠': 'fortune cookie',\n",
       " '🥡': 'takeout box',\n",
       " '🦀': 'crab',\n",
       " '🦞': 'lobster',\n",
       " '🦐': 'shrimp',\n",
       " '🦑': 'squid',\n",
       " '\\U0001f9aa': 'oyster',\n",
       " '🍦': 'soft ice cream',\n",
       " '🍧': 'shaved ice',\n",
       " '🍨': 'ice cream',\n",
       " '🍩': 'doughnut',\n",
       " '🍪': 'cookie',\n",
       " '🎂': 'birthday cake',\n",
       " '🍰': 'shortcake',\n",
       " '🧁': 'cupcake',\n",
       " '🥧': 'pie',\n",
       " '🍫': 'chocolate bar',\n",
       " '🍬': 'candy',\n",
       " '🍭': 'lollipop',\n",
       " '🍮': 'custard',\n",
       " '🍯': 'honey pot',\n",
       " '🍼': 'baby bottle',\n",
       " '🥛': 'glass of milk',\n",
       " '☕': 'hot beverage',\n",
       " '🍵': 'teacup without handle',\n",
       " '🍶': 'sake',\n",
       " '🍾': 'bottle with popping cork',\n",
       " '🍷': 'wine glass',\n",
       " '🍸': 'cocktail glass',\n",
       " '🍹': 'tropical drink',\n",
       " '🍺': 'beer mug',\n",
       " '🍻': 'clinking beer mugs',\n",
       " '🥂': 'clinking glasses',\n",
       " '🥃': 'tumbler glass',\n",
       " '🥤': 'cup with straw',\n",
       " '\\U0001f9c3': 'beverage box',\n",
       " '\\U0001f9c9': 'mate',\n",
       " '\\U0001f9ca': 'ice cube',\n",
       " '🥢': 'chopsticks',\n",
       " '🍽': 'fork and knife with plate',\n",
       " '🍴': 'fork and knife',\n",
       " '🥄': 'spoon',\n",
       " '🔪': 'kitchen knife',\n",
       " '🏺': 'amphora',\n",
       " '🌍': 'globe showing Europe-Africa',\n",
       " '🌎': 'globe showing Americas',\n",
       " '🌏': 'globe showing Asia-Australia',\n",
       " '🌐': 'globe with meridians',\n",
       " '🗺': 'world map',\n",
       " '🗾': 'map of Japan',\n",
       " '🧭': 'compass',\n",
       " '🏔': 'snow-capped mountain',\n",
       " '⛰': 'mountain',\n",
       " '🌋': 'volcano',\n",
       " '🗻': 'mount fuji',\n",
       " '🏕': 'camping',\n",
       " '🏖': 'beach with umbrella',\n",
       " '🏜': 'desert',\n",
       " '🏝': 'desert island',\n",
       " '🏞': 'national park',\n",
       " '🏟': 'stadium',\n",
       " '🏛': 'classical building',\n",
       " '🏗': 'building construction',\n",
       " '🧱': 'brick',\n",
       " '🏘': 'houses',\n",
       " '🏚': 'derelict house',\n",
       " '🏠': 'house',\n",
       " '🏡': 'house with garden',\n",
       " '🏢': 'office building',\n",
       " '🏣': 'Japanese post office',\n",
       " '🏤': 'post office',\n",
       " '🏥': 'hospital',\n",
       " '🏦': 'bank',\n",
       " '🏨': 'hotel',\n",
       " '🏩': 'love hotel',\n",
       " '🏪': 'convenience store',\n",
       " '🏬': 'department store',\n",
       " '🏯': 'Japanese castle',\n",
       " '🏰': 'castle',\n",
       " '💒': 'wedding',\n",
       " '🗼': 'Tokyo tower',\n",
       " '🗽': 'Statue of Liberty',\n",
       " '⛪': 'church',\n",
       " '🕌': 'mosque',\n",
       " '\\U0001f6d5': 'hindu temple',\n",
       " '🕍': 'synagogue',\n",
       " '⛩': 'shinto shrine',\n",
       " '🕋': 'kaaba',\n",
       " '⛲': 'fountain',\n",
       " '⛺': 'tent',\n",
       " '🌁': 'foggy',\n",
       " '🌃': 'night with stars',\n",
       " '🏙': 'cityscape',\n",
       " '🌄': 'sunrise over mountains',\n",
       " '🌅': 'sunrise',\n",
       " '🌆': 'cityscape at dusk',\n",
       " '🌇': 'sunset',\n",
       " '🌉': 'bridge at night',\n",
       " '♨': 'hot springs',\n",
       " '🎠': 'carousel horse',\n",
       " '🎡': 'ferris wheel',\n",
       " '🎢': 'roller coaster',\n",
       " '💈': 'barber pole',\n",
       " '🎪': 'circus tent',\n",
       " '🚂': 'locomotive',\n",
       " '🚃': 'railway car',\n",
       " '🚄': 'high-speed train',\n",
       " '🚅': 'bullet train',\n",
       " '🚆': 'train',\n",
       " '🚇': 'metro',\n",
       " '🚈': 'light rail',\n",
       " '🚉': 'station',\n",
       " '🚊': 'tram',\n",
       " '🚝': 'monorail',\n",
       " '🚞': 'mountain railway',\n",
       " '🚋': 'tram car',\n",
       " '🚌': 'bus',\n",
       " '🚍': 'oncoming bus',\n",
       " '🚎': 'trolleybus',\n",
       " '🚐': 'minibus',\n",
       " '🚑': 'ambulance',\n",
       " '🚓': 'police car',\n",
       " '🚔': 'oncoming police car',\n",
       " '🚕': 'taxi',\n",
       " '🚖': 'oncoming taxi',\n",
       " '🚗': 'automobile',\n",
       " '🚘': 'oncoming automobile',\n",
       " '🚙': 'sport utility vehicle',\n",
       " '🚚': 'delivery truck',\n",
       " '🚛': 'articulated lorry',\n",
       " '🚜': 'tractor',\n",
       " '🏎': 'racing car',\n",
       " '🏍': 'motorcycle',\n",
       " '🛵': 'motor scooter',\n",
       " '\\U0001f6fa': 'auto rickshaw',\n",
       " '🚲': 'bicycle',\n",
       " '🛴': 'kick scooter',\n",
       " '🛹': 'skateboard',\n",
       " '🚏': 'bus stop',\n",
       " '🛣': 'motorway',\n",
       " '🛤': 'railway track',\n",
       " '🛢': 'oil drum',\n",
       " '⛽': 'fuel pump',\n",
       " '🚨': 'police car light',\n",
       " '🚥': 'horizontal traffic light',\n",
       " '🚦': 'vertical traffic light',\n",
       " '🛑': 'stop sign',\n",
       " '🚧': 'construction',\n",
       " '⚓': 'anchor',\n",
       " '⛵': 'sailboat',\n",
       " '🛶': 'canoe',\n",
       " '🚤': 'speedboat',\n",
       " '🛳': 'passenger ship',\n",
       " '⛴': 'ferry',\n",
       " '🛥': 'motor boat',\n",
       " '🚢': 'ship',\n",
       " '🛩': 'small airplane',\n",
       " '🛫': 'airplane departure',\n",
       " '🛬': 'airplane arrival',\n",
       " '\\U0001fa82': 'parachute',\n",
       " '💺': 'seat',\n",
       " '🚁': 'helicopter',\n",
       " '🚟': 'suspension railway',\n",
       " '🚠': 'mountain cableway',\n",
       " '🚡': 'aerial tramway',\n",
       " '🛰': 'satellite',\n",
       " '🛸': 'flying saucer',\n",
       " '🛎': 'bellhop bell',\n",
       " '🧳': 'luggage',\n",
       " '⌛': 'hourglass done',\n",
       " '⏳': 'hourglass not done',\n",
       " '⌚': 'watch',\n",
       " '⏰': 'alarm clock',\n",
       " '⏱': 'stopwatch',\n",
       " '⏲': 'timer clock',\n",
       " '🕰': 'mantelpiece clock',\n",
       " '🕛': 'twelve o’clock',\n",
       " '🕧': 'twelve-thirty',\n",
       " '🕐': 'one o’clock',\n",
       " '🕜': 'one-thirty',\n",
       " '🕑': 'two o’clock',\n",
       " '🕝': 'two-thirty',\n",
       " '🕒': 'three o’clock',\n",
       " '🕞': 'three-thirty',\n",
       " '🕓': 'four o’clock',\n",
       " '🕟': 'four-thirty',\n",
       " '🕔': 'five o’clock',\n",
       " '🕠': 'five-thirty',\n",
       " '🕕': 'six o’clock',\n",
       " '🕡': 'six-thirty',\n",
       " '🕖': 'seven o’clock',\n",
       " '🕢': 'seven-thirty',\n",
       " '🕗': 'eight o’clock',\n",
       " '🕣': 'eight-thirty',\n",
       " '🕘': 'nine o’clock',\n",
       " '🕤': 'nine-thirty',\n",
       " '🕙': 'ten o’clock',\n",
       " '🕥': 'ten-thirty',\n",
       " '🕚': 'eleven o’clock',\n",
       " '🕦': 'eleven-thirty',\n",
       " '🌑': 'new moon',\n",
       " '🌒': 'waxing crescent moon',\n",
       " '🌓': 'first quarter moon',\n",
       " '🌔': 'waxing gibbous moon',\n",
       " '🌕': 'full moon',\n",
       " '🌖': 'waning gibbous moon',\n",
       " '🌗': 'last quarter moon',\n",
       " '🌘': 'waning crescent moon',\n",
       " '🌙': 'crescent moon',\n",
       " '🌚': 'new moon face',\n",
       " '🌛': 'first quarter moon face',\n",
       " '🌜': 'last quarter moon face',\n",
       " '🌡': 'thermometer',\n",
       " '☀': 'sun',\n",
       " '🌝': 'full moon face',\n",
       " '🌞': 'sun with face',\n",
       " '\\U0001fa90': 'ringed planet',\n",
       " '⭐': 'star',\n",
       " '🌟': 'glowing star',\n",
       " '🌠': 'shooting star',\n",
       " '🌌': 'milky way',\n",
       " '☁': 'cloud',\n",
       " '⛅': 'sun behind cloud',\n",
       " '⛈': 'cloud with lightning and rain',\n",
       " '🌤': 'sun behind small cloud',\n",
       " '🌥': 'sun behind large cloud',\n",
       " '🌦': 'sun behind rain cloud',\n",
       " '🌧': 'cloud with rain',\n",
       " '🌨': 'cloud with snow',\n",
       " '🌩': 'cloud with lightning',\n",
       " '🌪': 'tornado',\n",
       " '🌫': 'fog',\n",
       " '🌬': 'wind face',\n",
       " '🌀': 'cyclone',\n",
       " '🌈': 'rainbow flag',\n",
       " '🌂': 'closed umbrella',\n",
       " '☂': 'umbrella',\n",
       " '☔': 'umbrella with rain drops',\n",
       " '⛱': 'umbrella on ground',\n",
       " '⚡': 'high voltage',\n",
       " '❄': 'snowflake',\n",
       " '☃': 'snowman',\n",
       " '⛄': 'snowman without snow',\n",
       " '☄': 'comet',\n",
       " '🔥': 'fire',\n",
       " '💧': 'droplet',\n",
       " '🌊': 'water wave',\n",
       " '🎃': 'jack-o-lantern',\n",
       " '🎄': 'Christmas tree',\n",
       " '🎆': 'fireworks',\n",
       " '🎇': 'sparkler',\n",
       " '🧨': 'firecracker',\n",
       " '✨': 'sparkles',\n",
       " '🎈': 'balloon',\n",
       " '🎉': 'party popper',\n",
       " '🎊': 'confetti ball',\n",
       " '🎋': 'tanabata tree',\n",
       " '🎍': 'pine decoration',\n",
       " '🎎': 'Japanese dolls',\n",
       " '🎏': 'carp streamer',\n",
       " '🎐': 'wind chime',\n",
       " '🎑': 'moon viewing ceremony',\n",
       " '🧧': 'red envelope',\n",
       " '🎀': 'ribbon',\n",
       " '🎁': 'wrapped gift',\n",
       " '🎗': 'reminder ribbon',\n",
       " '🎟': 'admission tickets',\n",
       " '🎫': 'ticket',\n",
       " '🎖': 'military medal',\n",
       " '🏆': 'trophy',\n",
       " '🏅': 'sports medal',\n",
       " '🥇': '1st place medal',\n",
       " '🥈': '2nd place medal',\n",
       " '🥉': '3rd place medal',\n",
       " '⚽': 'soccer ball',\n",
       " '⚾': 'baseball',\n",
       " '🥎': 'softball',\n",
       " '🏀': 'basketball',\n",
       " '🏐': 'volleyball',\n",
       " '🏈': 'american football',\n",
       " '🏉': 'rugby football',\n",
       " '🎾': 'tennis',\n",
       " '🥏': 'flying disc',\n",
       " '🎳': 'bowling',\n",
       " '🏏': 'cricket game',\n",
       " '🏑': 'field hockey',\n",
       " '🏒': 'ice hockey',\n",
       " '🥍': 'lacrosse',\n",
       " '🏓': 'ping pong',\n",
       " '🏸': 'badminton',\n",
       " '🥊': 'boxing glove',\n",
       " '🥋': 'martial arts uniform',\n",
       " '🥅': 'goal net',\n",
       " '⛳': 'flag in hole',\n",
       " '⛸': 'ice skate',\n",
       " '🎣': 'fishing pole',\n",
       " '\\U0001f93f': 'diving mask',\n",
       " '🎽': 'running shirt',\n",
       " '🎿': 'skis',\n",
       " '🛷': 'sled',\n",
       " '🥌': 'curling stone',\n",
       " '🎯': 'direct hit',\n",
       " '\\U0001fa80': 'yo-yo',\n",
       " '\\U0001fa81': 'kite',\n",
       " '🎱': 'pool 8 ball',\n",
       " '🔮': 'crystal ball',\n",
       " '🧿': 'nazar amulet',\n",
       " '🎮': 'video game',\n",
       " '🕹': 'joystick',\n",
       " '🎰': 'slot machine',\n",
       " '🎲': 'game die',\n",
       " '🧩': 'puzzle piece',\n",
       " '🧸': 'teddy bear',\n",
       " '♠': 'spade suit',\n",
       " '♥': 'heart suit',\n",
       " '♦': 'diamond suit',\n",
       " '♣': 'club suit',\n",
       " '♟': 'chess pawn',\n",
       " '🃏': 'joker',\n",
       " '🀄': 'mahjong red dragon',\n",
       " '🎴': 'flower playing cards',\n",
       " '🎭': 'performing arts',\n",
       " '🖼': 'framed picture',\n",
       " '🧵': 'thread',\n",
       " '🧶': 'yarn',\n",
       " '👓': 'glasses',\n",
       " '🕶': 'sunglasses',\n",
       " '🥽': 'goggles',\n",
       " '🥼': 'lab coat',\n",
       " '👔': 'necktie',\n",
       " '👕': 't-shirt',\n",
       " '👖': 'jeans',\n",
       " '🧣': 'scarf',\n",
       " '🧤': 'gloves',\n",
       " '🧥': 'coat',\n",
       " '🧦': 'socks',\n",
       " '👗': 'dress',\n",
       " '👘': 'kimono',\n",
       " '\\U0001f97b': 'sari',\n",
       " '\\U0001fa71': 'one-piece swimsuit',\n",
       " '\\U0001fa72': 'swim brief',\n",
       " '\\U0001fa73': 'shorts',\n",
       " '👙': 'bikini',\n",
       " '👚': 'woman’s clothes',\n",
       " '👛': 'purse',\n",
       " '👜': 'handbag',\n",
       " '👝': 'clutch bag',\n",
       " '🛍': 'shopping bags',\n",
       " '🎒': 'backpack',\n",
       " '👞': 'man’s shoe',\n",
       " '👟': 'running shoe',\n",
       " '🥾': 'hiking boot',\n",
       " '🥿': 'flat shoe',\n",
       " '👠': 'high-heeled shoe',\n",
       " '👡': 'woman’s sandal',\n",
       " '\\U0001fa70': 'ballet shoes',\n",
       " '👢': 'woman’s boot',\n",
       " '👑': 'crown',\n",
       " '👒': 'woman’s hat',\n",
       " '🎩': 'top hat',\n",
       " '🧢': 'billed cap',\n",
       " '⛑': 'rescue worker’s helmet',\n",
       " '📿': 'prayer beads',\n",
       " '💄': 'lipstick',\n",
       " '💍': 'ring',\n",
       " '💎': 'gem stone',\n",
       " '🔇': 'muted speaker',\n",
       " '🔈': 'speaker low volume',\n",
       " '🔉': 'speaker medium volume',\n",
       " '🔊': 'speaker high volume',\n",
       " '📢': 'loudspeaker',\n",
       " '📣': 'megaphone',\n",
       " '📯': 'postal horn',\n",
       " '🔔': 'bell',\n",
       " '🔕': 'bell with slash',\n",
       " '🎼': 'musical score',\n",
       " '🎵': 'musical note',\n",
       " '🎶': 'musical notes',\n",
       " '🎙': 'studio microphone',\n",
       " '🎚': 'level slider',\n",
       " '🎛': 'control knobs',\n",
       " '🎧': 'headphone',\n",
       " '📻': 'radio',\n",
       " '🎷': 'saxophone',\n",
       " '🎸': 'guitar',\n",
       " '🎹': 'musical keyboard',\n",
       " '🎺': 'trumpet',\n",
       " '🎻': 'violin',\n",
       " '\\U0001fa95': 'banjo',\n",
       " '🥁': 'drum',\n",
       " '📱': 'mobile phone',\n",
       " '📲': 'mobile phone with arrow',\n",
       " '☎': 'telephone',\n",
       " '📞': 'telephone receiver',\n",
       " '📟': 'pager',\n",
       " '📠': 'fax machine',\n",
       " '🔋': 'battery',\n",
       " '🔌': 'electric plug',\n",
       " '🖥': 'desktop computer',\n",
       " '🖨': 'printer',\n",
       " '⌨': 'keyboard',\n",
       " '🖱': 'computer mouse',\n",
       " '🖲': 'trackball',\n",
       " '💽': 'computer disk',\n",
       " '💾': 'floppy disk',\n",
       " '💿': 'optical disk',\n",
       " '📀': 'dvd',\n",
       " '🧮': 'abacus',\n",
       " '🎥': 'movie camera',\n",
       " '🎞': 'film frames',\n",
       " '📽': 'film projector',\n",
       " '🎬': 'clapper board',\n",
       " '📺': 'television',\n",
       " '📷': 'camera',\n",
       " '📸': 'camera with flash',\n",
       " '📹': 'video camera',\n",
       " '📼': 'videocassette',\n",
       " '🔍': 'magnifying glass tilted left',\n",
       " '🔎': 'magnifying glass tilted right',\n",
       " '🕯': 'candle',\n",
       " '💡': 'light bulb',\n",
       " '🔦': 'flashlight',\n",
       " '🏮': 'red paper lantern',\n",
       " '\\U0001fa94': 'diya lamp',\n",
       " '📔': 'notebook with decorative cover',\n",
       " '📕': 'closed book',\n",
       " '📖': 'open book',\n",
       " '📗': 'green book',\n",
       " '📘': 'blue book',\n",
       " '📙': 'orange book',\n",
       " '📚': 'books',\n",
       " '📓': 'notebook',\n",
       " '📒': 'ledger',\n",
       " '📃': 'page with curl',\n",
       " '📜': 'scroll',\n",
       " '📄': 'page facing up',\n",
       " '📰': 'newspaper',\n",
       " '🗞': 'rolled-up newspaper',\n",
       " '📑': 'bookmark tabs',\n",
       " '🔖': 'bookmark',\n",
       " '🏷': 'label',\n",
       " '💰': 'money bag',\n",
       " '💴': 'yen banknote',\n",
       " '💵': 'dollar banknote',\n",
       " '💶': 'euro banknote',\n",
       " '💷': 'pound banknote',\n",
       " '💸': 'money with wings',\n",
       " '💳': 'credit card',\n",
       " '🧾': 'receipt',\n",
       " '💹': 'chart increasing with yen',\n",
       " '💱': 'currency exchange',\n",
       " '💲': 'heavy dollar sign',\n",
       " '✉': 'envelope',\n",
       " '📧': 'e-mail',\n",
       " '📨': 'incoming envelope',\n",
       " '📩': 'envelope with arrow',\n",
       " '📤': 'outbox tray',\n",
       " '📥': 'inbox tray',\n",
       " '📦': 'package',\n",
       " '📫': 'closed mailbox with raised flag',\n",
       " '📪': 'closed mailbox with lowered flag',\n",
       " '📬': 'open mailbox with raised flag',\n",
       " '📭': 'open mailbox with lowered flag',\n",
       " '📮': 'postbox',\n",
       " '🗳': 'ballot box with ballot',\n",
       " '✏': 'pencil',\n",
       " '✒': 'black nib',\n",
       " '🖋': 'fountain pen',\n",
       " '🖊': 'pen',\n",
       " '🖌': 'paintbrush',\n",
       " '🖍': 'crayon',\n",
       " '📝': 'memo',\n",
       " '📁': 'file folder',\n",
       " '📂': 'open file folder',\n",
       " '🗂': 'card index dividers',\n",
       " '📅': 'calendar',\n",
       " '📆': 'tear-off calendar',\n",
       " '🗒': 'spiral notepad',\n",
       " '🗓': 'spiral calendar',\n",
       " '📇': 'card index',\n",
       " '📈': 'chart increasing',\n",
       " '📉': 'chart decreasing',\n",
       " ...}"
      ]
     },
     "execution_count": 13,
     "metadata": {},
     "output_type": "execute_result"
    }
   ],
   "source": [
    "my_emoji_translator"
   ]
  },
  {
   "cell_type": "code",
   "execution_count": 14,
   "metadata": {
    "slideshow": {
     "slide_type": "subslide"
    }
   },
   "outputs": [
    {
     "name": "stdout",
     "output_type": "stream",
     "text": [
      "     Token\t     Lemma\t  Stopword\n",
      "--------------------------------------------------\n",
      "   anxious\t   anxious\t     False\n",
      "      face\t      face\t     False\n",
      "      with\t      with\t      True\n",
      "     sweat\t     sweat\t     False\n"
     ]
    }
   ],
   "source": [
    "text = cleaned_df.comment.iloc[3]\n",
    "print(\"{:>10s}\\t{:>10s}\\t{:>10s}\".format('Token', 'Lemma', 'Stopword'))\n",
    "print(\"-\"*50)\n",
    "doc = nlp(text)\n",
    "for token in doc:\n",
    "    if str(token) in my_emoji_translator:\n",
    "        emoji_translation = my_emoji_translator[str(token)]\n",
    "        doc_for_emoji = nlp(emoji_translation)\n",
    "        for t in doc_for_emoji:\n",
    "            print(\"{:>10s}\\t{:>10s}\\t{:>10s}\".format(str(t), str(t.lemma_), str(t.is_stop)))"
   ]
  },
  {
   "cell_type": "code",
   "execution_count": 15,
   "metadata": {
    "slideshow": {
     "slide_type": "subslide"
    }
   },
   "outputs": [
    {
     "name": "stdout",
     "output_type": "stream",
     "text": [
      "Something weird going on on machine D, don't know what, should investigate 😰\n",
      "------------------------------------------------------------------------------------------\n",
      "weird\n",
      "going\n",
      "machine\n",
      "D\n",
      "know\n",
      "investigate\n",
      "anxious\n",
      "face\n",
      "sweat\n"
     ]
    }
   ],
   "source": [
    "print(text)\n",
    "print('-'*90)\n",
    "for token in nlp(text):\n",
    "    if str(token) in my_emoji_translator:\n",
    "        emoji_translation = my_emoji_translator[str(token)]\n",
    "        doc_for_emoji = nlp(emoji_translation)\n",
    "        for t in doc_for_emoji:\n",
    "            if not t.is_stop and not t.is_punct:\n",
    "                print(t)\n",
    "    elif not token.is_stop and not token.is_punct:\n",
    "        print(token)"
   ]
  },
  {
   "cell_type": "markdown",
   "metadata": {
    "slideshow": {
     "slide_type": "slide"
    }
   },
   "source": [
    "# Classification\n",
    "\n",
    "Classification is one of the most common tasks in machine learning, and the domain of NLP is not an exception. Common classification problems in NLP are sentiment analysis, detection of spam in mail or toxic comments on forums.\n",
    "\n",
    "More formally, the task of **classification** corresponds to trying to predict **a target that has a finite (countable) number of values.**"
   ]
  },
  {
   "cell_type": "markdown",
   "metadata": {
    "slideshow": {
     "slide_type": "subslide"
    }
   },
   "source": [
    "## Is our previous data preparation enough to directly train a classifier?"
   ]
  },
  {
   "cell_type": "markdown",
   "metadata": {
    "slideshow": {
     "slide_type": "fragment"
    }
   },
   "source": [
    "No, we have cleaned the dataset and we now have a dataset with one line per comment, such as this one"
   ]
  },
  {
   "cell_type": "code",
   "execution_count": 16,
   "metadata": {
    "slideshow": {
     "slide_type": "subslide"
    }
   },
   "outputs": [],
   "source": [
    "!pip install kaggle > /dev/null"
   ]
  },
  {
   "cell_type": "code",
   "execution_count": 17,
   "metadata": {
    "slideshow": {
     "slide_type": "fragment"
    }
   },
   "outputs": [
    {
     "name": "stdout",
     "output_type": "stream",
     "text": [
      "nlp-getting-started.zip: Skipping, found more recently modified local copy (use --force to force download)\r\n"
     ]
    }
   ],
   "source": [
    "!kaggle competitions download -c nlp-getting-started"
   ]
  },
  {
   "cell_type": "code",
   "execution_count": 18,
   "metadata": {
    "slideshow": {
     "slide_type": "fragment"
    }
   },
   "outputs": [
    {
     "name": "stdout",
     "output_type": "stream",
     "text": [
      "Archive:  ./nlp-getting-started.zip\n",
      "replace sample_submission.csv? [y]es, [n]o, [A]ll, [N]one, [r]ename: ^C\n"
     ]
    }
   ],
   "source": [
    "!unzip ./nlp-getting-started.zip"
   ]
  },
  {
   "cell_type": "code",
   "execution_count": 19,
   "metadata": {
    "slideshow": {
     "slide_type": "fragment"
    }
   },
   "outputs": [
    {
     "name": "stdout",
     "output_type": "stream",
     "text": [
      "total 4816\r\n",
      "-rw-r--r--@ 1 remy.frenoy  staff    9047 Feb 17 17:43 fake_operation_data.xlsx\r\n",
      "-rw-r--r--  1 remy.frenoy  staff  607343 Feb 18 13:24 nlp-getting-started.zip\r\n",
      "-rw-r--r--  1 remy.frenoy  staff   68756 Feb 18 15:48 nlp_intro.ipynb\r\n",
      "-rw-r--r--  1 remy.frenoy  staff  335608 Feb 18 15:40 nlp_intro.slides.html\r\n",
      "-rw-r--r--  1 remy.frenoy  staff   22746 Dec 16 20:36 sample_submission.csv\r\n",
      "-rw-r--r--  1 remy.frenoy  staff  420783 Dec 16 20:36 test.csv\r\n",
      "-rw-r--r--  1 remy.frenoy  staff  987712 Dec 16 20:36 train.csv\r\n"
     ]
    }
   ],
   "source": [
    "!ls -l ./"
   ]
  },
  {
   "cell_type": "code",
   "execution_count": 20,
   "metadata": {
    "slideshow": {
     "slide_type": "subslide"
    }
   },
   "outputs": [
    {
     "data": {
      "text/html": [
       "<div>\n",
       "<style scoped>\n",
       "    .dataframe tbody tr th:only-of-type {\n",
       "        vertical-align: middle;\n",
       "    }\n",
       "\n",
       "    .dataframe tbody tr th {\n",
       "        vertical-align: top;\n",
       "    }\n",
       "\n",
       "    .dataframe thead th {\n",
       "        text-align: right;\n",
       "    }\n",
       "</style>\n",
       "<table border=\"1\" class=\"dataframe\">\n",
       "  <thead>\n",
       "    <tr style=\"text-align: right;\">\n",
       "      <th></th>\n",
       "      <th>id</th>\n",
       "      <th>keyword</th>\n",
       "      <th>location</th>\n",
       "      <th>text</th>\n",
       "      <th>target</th>\n",
       "    </tr>\n",
       "  </thead>\n",
       "  <tbody>\n",
       "    <tr>\n",
       "      <th>0</th>\n",
       "      <td>1</td>\n",
       "      <td>NaN</td>\n",
       "      <td>NaN</td>\n",
       "      <td>Our Deeds are the Reason of this #earthquake M...</td>\n",
       "      <td>1</td>\n",
       "    </tr>\n",
       "    <tr>\n",
       "      <th>1</th>\n",
       "      <td>4</td>\n",
       "      <td>NaN</td>\n",
       "      <td>NaN</td>\n",
       "      <td>Forest fire near La Ronge Sask. Canada</td>\n",
       "      <td>1</td>\n",
       "    </tr>\n",
       "    <tr>\n",
       "      <th>2</th>\n",
       "      <td>5</td>\n",
       "      <td>NaN</td>\n",
       "      <td>NaN</td>\n",
       "      <td>All residents asked to 'shelter in place' are ...</td>\n",
       "      <td>1</td>\n",
       "    </tr>\n",
       "    <tr>\n",
       "      <th>3</th>\n",
       "      <td>6</td>\n",
       "      <td>NaN</td>\n",
       "      <td>NaN</td>\n",
       "      <td>13,000 people receive #wildfires evacuation or...</td>\n",
       "      <td>1</td>\n",
       "    </tr>\n",
       "    <tr>\n",
       "      <th>4</th>\n",
       "      <td>7</td>\n",
       "      <td>NaN</td>\n",
       "      <td>NaN</td>\n",
       "      <td>Just got sent this photo from Ruby #Alaska as ...</td>\n",
       "      <td>1</td>\n",
       "    </tr>\n",
       "  </tbody>\n",
       "</table>\n",
       "</div>"
      ],
      "text/plain": [
       "   id keyword location                                               text  \\\n",
       "0   1     NaN      NaN  Our Deeds are the Reason of this #earthquake M...   \n",
       "1   4     NaN      NaN             Forest fire near La Ronge Sask. Canada   \n",
       "2   5     NaN      NaN  All residents asked to 'shelter in place' are ...   \n",
       "3   6     NaN      NaN  13,000 people receive #wildfires evacuation or...   \n",
       "4   7     NaN      NaN  Just got sent this photo from Ruby #Alaska as ...   \n",
       "\n",
       "   target  \n",
       "0       1  \n",
       "1       1  \n",
       "2       1  \n",
       "3       1  \n",
       "4       1  "
      ]
     },
     "execution_count": 20,
     "metadata": {},
     "output_type": "execute_result"
    }
   ],
   "source": [
    "import pandas as pd\n",
    "\n",
    "full_df = pd.read_csv('train.csv')\n",
    "train_df = full_df.iloc[:-1000]\n",
    "test_df = full_df.iloc[-1000:]\n",
    "train_df.head()"
   ]
  },
  {
   "cell_type": "markdown",
   "metadata": {
    "slideshow": {
     "slide_type": "fragment"
    }
   },
   "source": [
    "We said machine learning could be illustrated by learning a vector of weights that will multiply a vector of features. For this to work, our vector of features must contain numerical values. We have to convert our text data to numerical data in some way. The most basic way to do it is to use the **Bag of Words** representation."
   ]
  },
  {
   "cell_type": "markdown",
   "metadata": {
    "slideshow": {
     "slide_type": "subslide"
    }
   },
   "source": [
    "In Bag of Words (BoW), we will create a matrix with as many columns as we have words in our vocabulary. Each line in the matrix will represent a text, and we will simply put a binary value indicating whether the text contains a given word or not."
   ]
  },
  {
   "cell_type": "markdown",
   "metadata": {
    "slideshow": {
     "slide_type": "fragment"
    }
   },
   "source": [
    "Do you see a limitation with this approach?"
   ]
  },
  {
   "cell_type": "markdown",
   "metadata": {
    "slideshow": {
     "slide_type": "fragment"
    }
   },
   "source": [
    "* A lot of columns!"
   ]
  },
  {
   "cell_type": "markdown",
   "metadata": {
    "slideshow": {
     "slide_type": "fragment"
    }
   },
   "source": [
    "* Representation of a text only by the words in it: no representation of the order of the words. _\"Tom loves maths\"_ and _\"Maths love Tom\"_ have the same representation, while the two sentences do not have the same meaning."
   ]
  },
  {
   "cell_type": "markdown",
   "metadata": {
    "slideshow": {
     "slide_type": "subslide"
    }
   },
   "source": [
    "Some approaches improve BoW representation but keep the same idea: Term Frequency (TF) and Term Frequency-Inverse Document Frequency (TF-IDF) use floating values instead of binary values, representing the ratio between the number of occurences of the word in the text and the number of occurences of the word in the whole corpus.\n",
    "\n",
    "Instead of using a column per word, it is possible to use group of words (or group of letters in some contexts). These are called N-grams (N being the cardinality of the group). Mostly bigrams and trigrams are used. It allows for a shallow representation of neighborhood but increase dramatically the number of columns, which is an issue (See the curse of dimensionality)"
   ]
  },
  {
   "cell_type": "code",
   "execution_count": 21,
   "metadata": {
    "slideshow": {
     "slide_type": "subslide"
    }
   },
   "outputs": [],
   "source": [
    "import spacy\n",
    "\n",
    "# Create an empty model\n",
    "nlp = spacy.blank(\"en\")\n",
    "\n",
    "# Create the TextCategorizer with exclusive classes and \"bow\" architecture\n",
    "textcat = nlp.create_pipe(\n",
    "              \"textcat\",\n",
    "              config={\n",
    "                \"exclusive_classes\": True,\n",
    "                \"architecture\": \"bow\"})\n",
    "\n",
    "# Add the TextCategorizer to the empty model\n",
    "nlp.add_pipe(textcat)"
   ]
  },
  {
   "cell_type": "code",
   "execution_count": 22,
   "metadata": {
    "slideshow": {
     "slide_type": "subslide"
    }
   },
   "outputs": [
    {
     "data": {
      "text/plain": [
       "1"
      ]
     },
     "execution_count": 22,
     "metadata": {},
     "output_type": "execute_result"
    }
   ],
   "source": [
    "# Add labels to text classifier\n",
    "textcat.add_label('no_disaster')\n",
    "textcat.add_label('disaster')"
   ]
  },
  {
   "cell_type": "code",
   "execution_count": 23,
   "metadata": {
    "slideshow": {
     "slide_type": "fragment"
    }
   },
   "outputs": [],
   "source": [
    "train_texts = train_df['text'].values\n",
    "train_labels = [{'cats': {'disaster': label == 1,\n",
    "                          'no_disaster': label == 0}} \n",
    "                for label in train_df['target']]"
   ]
  },
  {
   "cell_type": "code",
   "execution_count": 24,
   "metadata": {
    "slideshow": {
     "slide_type": "fragment"
    }
   },
   "outputs": [
    {
     "data": {
      "text/plain": [
       "[('Our Deeds are the Reason of this #earthquake May ALLAH Forgive us all',\n",
       "  {'cats': {'disaster': True, 'no_disaster': False}}),\n",
       " ('Forest fire near La Ronge Sask. Canada',\n",
       "  {'cats': {'disaster': True, 'no_disaster': False}}),\n",
       " (\"All residents asked to 'shelter in place' are being notified by officers. No other evacuation or shelter in place orders are expected\",\n",
       "  {'cats': {'disaster': True, 'no_disaster': False}})]"
      ]
     },
     "execution_count": 24,
     "metadata": {},
     "output_type": "execute_result"
    }
   ],
   "source": [
    "train_data = list(zip(train_texts, train_labels))\n",
    "train_data[:3]"
   ]
  },
  {
   "cell_type": "code",
   "execution_count": 26,
   "metadata": {
    "slideshow": {
     "slide_type": "subslide"
    }
   },
   "outputs": [
    {
     "name": "stdout",
     "output_type": "stream",
     "text": [
      "{'textcat': 4.75042068969924}\n",
      "{'textcat': 7.534200280497316}\n",
      "{'textcat': 9.428553090867354}\n",
      "{'textcat': 10.817569403530797}\n",
      "{'textcat': 11.857005193585792}\n",
      "{'textcat': 12.684824872467289}\n",
      "{'textcat': 13.348254462805926}\n",
      "{'textcat': 13.903660962851063}\n",
      "{'textcat': 14.370522920558642}\n",
      "{'textcat': 14.761760743025206}\n",
      "{'textcat': 15.098512723614022}\n",
      "{'textcat': 15.390464223343656}\n",
      "{'textcat': 15.644695843835024}\n",
      "{'textcat': 15.870631646182474}\n",
      "{'textcat': 16.074076384343968}\n",
      "{'textcat': 16.262207440632935}\n",
      "{'textcat': 16.429086710450996}\n",
      "{'textcat': 16.5857346500268}\n",
      "{'textcat': 16.729227058711775}\n",
      "{'textcat': 16.865232349534388}\n"
     ]
    }
   ],
   "source": [
    "import random\n",
    "from spacy.util import minibatch\n",
    "\n",
    "random.seed(1)\n",
    "spacy.util.fix_random_seed(1)\n",
    "optimizer = nlp.begin_training()\n",
    "\n",
    "losses = {}\n",
    "for epoch in range(20):\n",
    "    random.shuffle(train_data)\n",
    "    # Create the batch generator with batch size = 8\n",
    "    batches = minibatch(train_data, size=8)\n",
    "    # Iterate through minibatches\n",
    "    for batch in batches:\n",
    "        # Each batch is a list of (text, label) but we need to\n",
    "        # send separate lists for texts and labels to update().\n",
    "        # This is a quick way to split a list of tuples into lists\n",
    "        texts, labels = zip(*batch)\n",
    "        nlp.update(texts, labels, sgd=optimizer, losses=losses)\n",
    "    print(losses)"
   ]
  },
  {
   "cell_type": "code",
   "execution_count": 27,
   "metadata": {
    "slideshow": {
     "slide_type": "subslide"
    }
   },
   "outputs": [
    {
     "name": "stdout",
     "output_type": "stream",
     "text": [
      "[[0.49625212 0.5037479 ]\n",
      " [0.644427   0.35557306]\n",
      " [0.6178041  0.3821959 ]]\n"
     ]
    }
   ],
   "source": [
    "texts = [\"Just happened a terrible car crash\",\n",
    "         \"I like potatoes\",\n",
    "         \"I am eating potatoes in a wild fire\"]\n",
    "docs = [nlp.tokenizer(text) for text in texts]\n",
    "    \n",
    "# Use textcat to get the scores for each doc\n",
    "textcat = nlp.get_pipe('textcat')\n",
    "scores, _ = textcat.predict(docs)\n",
    "\n",
    "print(scores)"
   ]
  },
  {
   "cell_type": "code",
   "execution_count": 28,
   "metadata": {
    "slideshow": {
     "slide_type": "subslide"
    }
   },
   "outputs": [
    {
     "name": "stdout",
     "output_type": "stream",
     "text": [
      "[[4.9454351e-03 9.9505460e-01]\n",
      " [8.1476718e-01 1.8523285e-01]\n",
      " [9.9718082e-01 2.8191626e-03]\n",
      " ...\n",
      " [1.1868637e-01 8.8131356e-01]\n",
      " [2.8035771e-03 9.9719644e-01]\n",
      " [4.3218108e-05 9.9995673e-01]]\n"
     ]
    }
   ],
   "source": [
    "docs = [nlp.tokenizer(text) for text in test_df.text]\n",
    "    \n",
    "# Use textcat to get the scores for each doc\n",
    "textcat = nlp.get_pipe('textcat')\n",
    "scores, _ = textcat.predict(docs)\n",
    "\n",
    "print(scores)"
   ]
  },
  {
   "cell_type": "code",
   "execution_count": 29,
   "metadata": {
    "slideshow": {
     "slide_type": "fragment"
    }
   },
   "outputs": [
    {
     "name": "stdout",
     "output_type": "stream",
     "text": [
      "0.732\n"
     ]
    }
   ],
   "source": [
    "import numpy as np\n",
    "preds = np.argmax(scores, axis=1)\n",
    "good_preds = preds == test_df.target.values\n",
    "print(good_preds.sum()/len(preds))"
   ]
  },
  {
   "cell_type": "markdown",
   "metadata": {
    "slideshow": {
     "slide_type": "subslide"
    }
   },
   "source": [
    "An entirely different approach is to use **word embeddings**. Words embeddings relate to the task of _dimensionality reduction_, which means that we try to compress the information in lower dimensions than the initial space. Initially, if we have a vocabulary with 5000 words, we have 5000 dimensions (=5000 columns in our BoW representation). We can try to encode our words in a 10-dimensional space"
   ]
  },
  {
   "cell_type": "code",
   "execution_count": 31,
   "metadata": {
    "slideshow": {
     "slide_type": "fragment"
    }
   },
   "outputs": [
    {
     "name": "stdout",
     "output_type": "stream",
     "text": [
      "(6613, 300)\n",
      "(1000, 300)\n"
     ]
    }
   ],
   "source": [
    "import numpy as np\n",
    "import spacy\n",
    "\n",
    "# Need to load the large model to get the vectors\n",
    "nlp = spacy.load('en_core_web_lg')\n",
    "with nlp.disable_pipes():\n",
    "    train_vectors = np.array([nlp(text).vector for text in train_df.text])\n",
    "    test_vectors = np.array([nlp(text).vector for text in test_df.text])\n",
    "    \n",
    "print(train_vectors.shape)\n",
    "print(test_vectors.shape)"
   ]
  },
  {
   "cell_type": "code",
   "execution_count": 32,
   "metadata": {
    "slideshow": {
     "slide_type": "fragment"
    }
   },
   "outputs": [
    {
     "name": "stdout",
     "output_type": "stream",
     "text": [
      "Accuracy: 79.200%\n"
     ]
    }
   ],
   "source": [
    "from sklearn.svm import LinearSVC\n",
    "\n",
    "svc = LinearSVC(random_state=1, dual=False, max_iter=10000)\n",
    "svc.fit(train_vectors, train_df.target)\n",
    "print(f\"Accuracy: {svc.score(test_vectors, test_df.target) * 100:.3f}%\", )"
   ]
  },
  {
   "cell_type": "markdown",
   "metadata": {
    "slideshow": {
     "slide_type": "slide"
    }
   },
   "source": [
    "# Generation\n",
    "\n",
    "Text generation can have a lot of applications:\n",
    "* Chatbots\n",
    "* Data to text (meeting summary)\n",
    "* Joke generators!"
   ]
  },
  {
   "cell_type": "markdown",
   "metadata": {
    "slideshow": {
     "slide_type": "subslide"
    }
   },
   "source": [
    "<img src=\"gen_model_archi.png\" width=\"600\">"
   ]
  },
  {
   "cell_type": "markdown",
   "metadata": {
    "slideshow": {
     "slide_type": "subslide"
    }
   },
   "source": [
    "![Model architecture](gen_model_target.png \"Target\")"
   ]
  },
  {
   "cell_type": "code",
   "execution_count": 1,
   "metadata": {
    "slideshow": {
     "slide_type": "skip"
    }
   },
   "outputs": [
    {
     "name": "stdout",
     "output_type": "stream",
     "text": [
      "  % Total    % Received % Xferd  Average Speed   Time    Time     Time  Current\n",
      "                                 Dload  Upload   Total   Spent    Left  Speed\n",
      "100 2814k  100 2814k    0     0  3570k      0 --:--:-- --:--:-- --:--:-- 3571k\n"
     ]
    }
   ],
   "source": [
    "!curl https://download.pytorch.org/tutorial/data.zip --output data.zip"
   ]
  },
  {
   "cell_type": "code",
   "execution_count": 3,
   "metadata": {
    "slideshow": {
     "slide_type": "skip"
    }
   },
   "outputs": [
    {
     "name": "stdout",
     "output_type": "stream",
     "text": [
      "Archive:  data.zip\n",
      "   creating: data/\n",
      "  inflating: data/eng-fra.txt        \n",
      "   creating: data/names/\n",
      "  inflating: data/names/Arabic.txt   \n",
      "  inflating: data/names/Chinese.txt  \n",
      "  inflating: data/names/Czech.txt    \n",
      "  inflating: data/names/Dutch.txt    \n",
      "  inflating: data/names/English.txt  \n",
      "  inflating: data/names/French.txt   \n",
      "  inflating: data/names/German.txt   \n",
      "  inflating: data/names/Greek.txt    \n",
      "  inflating: data/names/Irish.txt    \n",
      "  inflating: data/names/Italian.txt  \n",
      "  inflating: data/names/Japanese.txt  \n",
      "  inflating: data/names/Korean.txt   \n",
      "  inflating: data/names/Polish.txt   \n",
      "  inflating: data/names/Portuguese.txt  \n",
      "  inflating: data/names/Russian.txt  \n",
      "  inflating: data/names/Scottish.txt  \n",
      "  inflating: data/names/Spanish.txt  \n",
      "  inflating: data/names/Vietnamese.txt  \n"
     ]
    }
   ],
   "source": [
    "!unzip data.zip"
   ]
  },
  {
   "cell_type": "code",
   "execution_count": 4,
   "metadata": {
    "slideshow": {
     "slide_type": "skip"
    }
   },
   "outputs": [
    {
     "name": "stdout",
     "output_type": "stream",
     "text": [
      "# categories: 18 ['Czech', 'German', 'Arabic', 'Japanese', 'Chinese', 'Vietnamese', 'Russian', 'French', 'Irish', 'English', 'Spanish', 'Greek', 'Italian', 'Portuguese', 'Scottish', 'Dutch', 'Korean', 'Polish']\n",
      "O'Neal\n"
     ]
    }
   ],
   "source": [
    "from __future__ import unicode_literals, print_function, division\n",
    "from io import open\n",
    "import glob\n",
    "import os\n",
    "import unicodedata\n",
    "import string\n",
    "\n",
    "all_letters = string.ascii_letters + \" .,;'-\"\n",
    "n_letters = len(all_letters) + 1 # Plus EOS marker\n",
    "\n",
    "def findFiles(path): return glob.glob(path)\n",
    "\n",
    "# Turn a Unicode string to plain ASCII, thanks to https://stackoverflow.com/a/518232/2809427\n",
    "def unicodeToAscii(s):\n",
    "    return ''.join(\n",
    "        c for c in unicodedata.normalize('NFD', s)\n",
    "        if unicodedata.category(c) != 'Mn'\n",
    "        and c in all_letters\n",
    "    )\n",
    "\n",
    "# Read a file and split into lines\n",
    "def readLines(filename):\n",
    "    lines = open(filename, encoding='utf-8').read().strip().split('\\n')\n",
    "    return [unicodeToAscii(line) for line in lines]\n",
    "\n",
    "# Build the category_lines dictionary, a list of lines per category\n",
    "category_lines = {}\n",
    "all_categories = []\n",
    "for filename in findFiles('data/names/*.txt'):\n",
    "    category = os.path.splitext(os.path.basename(filename))[0]\n",
    "    all_categories.append(category)\n",
    "    lines = readLines(filename)\n",
    "    category_lines[category] = lines\n",
    "\n",
    "n_categories = len(all_categories)\n",
    "\n",
    "if n_categories == 0:\n",
    "    raise RuntimeError('Data not found. Make sure that you downloaded data '\n",
    "        'from https://download.pytorch.org/tutorial/data.zip and extract it to '\n",
    "        'the current directory.')\n",
    "\n",
    "print('# categories:', n_categories, all_categories)\n",
    "print(unicodeToAscii(\"O'Néàl\"))"
   ]
  },
  {
   "cell_type": "code",
   "execution_count": 8,
   "metadata": {
    "slideshow": {
     "slide_type": "subslide"
    }
   },
   "outputs": [],
   "source": [
    "import torch\n",
    "import torch.nn as nn\n",
    "\n",
    "class RNN(nn.Module):\n",
    "    def __init__(self, input_size, hidden_size, output_size):\n",
    "        super(RNN, self).__init__()\n",
    "        self.hidden_size = hidden_size\n",
    "\n",
    "        self.i2h = nn.Linear(n_categories + input_size + hidden_size, hidden_size)\n",
    "        self.i2o = nn.Linear(n_categories + input_size + hidden_size, output_size)\n",
    "        self.o2o = nn.Linear(hidden_size + output_size, output_size)\n",
    "        self.dropout = nn.Dropout(0.1)\n",
    "        self.softmax = nn.LogSoftmax(dim=1)\n",
    "\n",
    "    def forward(self, category, input, hidden):\n",
    "        input_combined = torch.cat((category, input, hidden), 1)\n",
    "        hidden = self.i2h(input_combined)\n",
    "        output = self.i2o(input_combined)\n",
    "        output_combined = torch.cat((hidden, output), 1)\n",
    "        output = self.o2o(output_combined)\n",
    "        output = self.dropout(output)\n",
    "        output = self.softmax(output)\n",
    "        return output, hidden\n",
    "\n",
    "    def initHidden(self):\n",
    "        return torch.zeros(1, self.hidden_size)\n"
   ]
  },
  {
   "cell_type": "code",
   "execution_count": 9,
   "metadata": {
    "slideshow": {
     "slide_type": "skip"
    }
   },
   "outputs": [],
   "source": [
    "import random\n",
    "\n",
    "# Random item from a list\n",
    "def randomChoice(l):\n",
    "    return l[random.randint(0, len(l) - 1)]\n",
    "\n",
    "# Get a random category and random line from that category\n",
    "def randomTrainingPair():\n",
    "    category = randomChoice(all_categories)\n",
    "    line = randomChoice(category_lines[category])\n",
    "    return category, line"
   ]
  },
  {
   "cell_type": "code",
   "execution_count": 10,
   "metadata": {
    "slideshow": {
     "slide_type": "skip"
    }
   },
   "outputs": [],
   "source": [
    "# One-hot vector for category\n",
    "def categoryTensor(category):\n",
    "    li = all_categories.index(category)\n",
    "    tensor = torch.zeros(1, n_categories)\n",
    "    tensor[0][li] = 1\n",
    "    return tensor\n",
    "\n",
    "# One-hot matrix of first to last letters (not including EOS) for input\n",
    "def inputTensor(line):\n",
    "    tensor = torch.zeros(len(line), 1, n_letters)\n",
    "    for li in range(len(line)):\n",
    "        letter = line[li]\n",
    "        tensor[li][0][all_letters.find(letter)] = 1\n",
    "    return tensor\n",
    "\n",
    "# LongTensor of second letter to end (EOS) for target\n",
    "def targetTensor(line):\n",
    "    letter_indexes = [all_letters.find(line[li]) for li in range(1, len(line))]\n",
    "    letter_indexes.append(n_letters - 1) # EOS\n",
    "    return torch.LongTensor(letter_indexes)"
   ]
  },
  {
   "cell_type": "code",
   "execution_count": 11,
   "metadata": {
    "slideshow": {
     "slide_type": "skip"
    }
   },
   "outputs": [],
   "source": [
    "# Make category, input, and target tensors from a random category, line pair\n",
    "def randomTrainingExample():\n",
    "    category, line = randomTrainingPair()\n",
    "    category_tensor = categoryTensor(category)\n",
    "    input_line_tensor = inputTensor(line)\n",
    "    target_line_tensor = targetTensor(line)\n",
    "    return category_tensor, input_line_tensor, target_line_tensor"
   ]
  },
  {
   "cell_type": "code",
   "execution_count": 12,
   "metadata": {
    "slideshow": {
     "slide_type": "subslide"
    }
   },
   "outputs": [],
   "source": [
    "criterion = nn.NLLLoss()\n",
    "\n",
    "learning_rate = 0.0005\n",
    "\n",
    "def train(category_tensor, input_line_tensor, target_line_tensor):\n",
    "    target_line_tensor.unsqueeze_(-1)\n",
    "    hidden = rnn.initHidden()\n",
    "\n",
    "    rnn.zero_grad()\n",
    "\n",
    "    loss = 0\n",
    "\n",
    "    for i in range(input_line_tensor.size(0)):\n",
    "        output, hidden = rnn(category_tensor, input_line_tensor[i], hidden)\n",
    "        l = criterion(output, target_line_tensor[i])\n",
    "        loss += l\n",
    "\n",
    "    loss.backward()\n",
    "\n",
    "    for p in rnn.parameters():\n",
    "        p.data.add_(-learning_rate, p.grad.data)\n",
    "\n",
    "    return output, loss.item() / input_line_tensor.size(0)"
   ]
  },
  {
   "cell_type": "code",
   "execution_count": 13,
   "metadata": {
    "slideshow": {
     "slide_type": "skip"
    }
   },
   "outputs": [],
   "source": [
    "import time\n",
    "import math\n",
    "\n",
    "def timeSince(since):\n",
    "    now = time.time()\n",
    "    s = now - since\n",
    "    m = math.floor(s / 60)\n",
    "    s -= m * 60\n",
    "    return '%dm %ds' % (m, s)"
   ]
  },
  {
   "cell_type": "code",
   "execution_count": 14,
   "metadata": {
    "slideshow": {
     "slide_type": "skip"
    }
   },
   "outputs": [
    {
     "name": "stdout",
     "output_type": "stream",
     "text": [
      "0m 18s (5000 5%) 2.5928\n",
      "0m 36s (10000 10%) 2.8660\n",
      "0m 53s (15000 15%) 3.5749\n",
      "1m 10s (20000 20%) 3.2637\n",
      "1m 28s (25000 25%) 2.8026\n",
      "1m 46s (30000 30%) 3.0794\n",
      "2m 3s (35000 35%) 2.3518\n",
      "2m 21s (40000 40%) 2.0979\n",
      "2m 38s (45000 45%) 1.9484\n",
      "2m 56s (50000 50%) 2.5137\n",
      "3m 14s (55000 55%) 2.6974\n",
      "3m 32s (60000 60%) 2.9802\n",
      "3m 50s (65000 65%) 2.4425\n",
      "4m 8s (70000 70%) 2.3670\n",
      "4m 26s (75000 75%) 1.6408\n",
      "4m 44s (80000 80%) 2.5503\n",
      "5m 2s (85000 85%) 2.8913\n",
      "5m 19s (90000 90%) 2.0961\n",
      "5m 36s (95000 95%) 3.0738\n",
      "5m 53s (100000 100%) 2.4669\n"
     ]
    }
   ],
   "source": [
    "rnn = RNN(n_letters, 128, n_letters)\n",
    "\n",
    "n_iters = 100000\n",
    "print_every = 5000\n",
    "plot_every = 500\n",
    "all_losses = []\n",
    "total_loss = 0 # Reset every plot_every iters\n",
    "\n",
    "start = time.time()\n",
    "\n",
    "for iter in range(1, n_iters + 1):\n",
    "    output, loss = train(*randomTrainingExample())\n",
    "    total_loss += loss\n",
    "\n",
    "    if iter % print_every == 0:\n",
    "        print('%s (%d %d%%) %.4f' % (timeSince(start), iter, iter / n_iters * 100, loss))\n",
    "\n",
    "    if iter % plot_every == 0:\n",
    "        all_losses.append(total_loss / plot_every)\n",
    "        total_loss = 0"
   ]
  },
  {
   "cell_type": "code",
   "execution_count": 17,
   "metadata": {
    "slideshow": {
     "slide_type": "subslide"
    }
   },
   "outputs": [
    {
     "data": {
      "text/plain": [
       "[<matplotlib.lines.Line2D at 0x1227f5080>]"
      ]
     },
     "execution_count": 17,
     "metadata": {},
     "output_type": "execute_result"
    },
    {
     "data": {
      "image/png": "[encoded data removed]",
      "text/plain": [
       "<Figure size 432x288 with 1 Axes>"
      ]
     },
     "metadata": {
      "needs_background": "light"
     },
     "output_type": "display_data"
    }
   ],
   "source": [
    "import matplotlib.pyplot as plt\n",
    "import matplotlib.ticker as ticker\n",
    "\n",
    "plt.figure()\n",
    "plt.plot(all_losses)"
   ]
  },
  {
   "cell_type": "code",
   "execution_count": 18,
   "metadata": {
    "slideshow": {
     "slide_type": "skip"
    }
   },
   "outputs": [],
   "source": [
    "max_length = 20\n",
    "\n",
    "# Sample from a category and starting letter\n",
    "def sample(category, start_letter='A'):\n",
    "    with torch.no_grad():  # no need to track history in sampling\n",
    "        category_tensor = categoryTensor(category)\n",
    "        input = inputTensor(start_letter)\n",
    "        hidden = rnn.initHidden()\n",
    "\n",
    "        output_name = start_letter\n",
    "\n",
    "        for i in range(max_length):\n",
    "            output, hidden = rnn(category_tensor, input[0], hidden)\n",
    "            topv, topi = output.topk(1)\n",
    "            topi = topi[0][0]\n",
    "            if topi == n_letters - 1:\n",
    "                break\n",
    "            else:\n",
    "                letter = all_letters[topi]\n",
    "                output_name += letter\n",
    "            input = inputTensor(letter)\n",
    "\n",
    "        return output_name\n",
    "\n",
    "# Get multiple samples from one category and multiple starting letters\n",
    "def samples(category, start_letters='ABC'):\n",
    "    for start_letter in start_letters:\n",
    "        print(sample(category, start_letter))"
   ]
  },
  {
   "cell_type": "code",
   "execution_count": 20,
   "metadata": {
    "slideshow": {
     "slide_type": "fragment"
    }
   },
   "outputs": [
    {
     "name": "stdout",
     "output_type": "stream",
     "text": [
      "Rovellov\n",
      "Uarishin\n",
      "Shallovov\n"
     ]
    }
   ],
   "source": [
    "samples('Russian', 'RUS')"
   ]
  },
  {
   "cell_type": "code",
   "execution_count": 22,
   "metadata": {
    "slideshow": {
     "slide_type": "subslide"
    }
   },
   "outputs": [
    {
     "name": "stdout",
     "output_type": "stream",
     "text": [
      "Ganter\n",
      "Erenter\n",
      "Rone\n"
     ]
    }
   ],
   "source": [
    "samples('German', 'GER')"
   ]
  },
  {
   "cell_type": "code",
   "execution_count": 24,
   "metadata": {
    "slideshow": {
     "slide_type": "fragment"
    }
   },
   "outputs": [
    {
     "name": "stdout",
     "output_type": "stream",
     "text": [
      "Santa\n",
      "Parier\n",
      "Allan\n"
     ]
    }
   ],
   "source": [
    "samples('Spanish', 'SPA')"
   ]
  },
  {
   "cell_type": "code",
   "execution_count": 25,
   "metadata": {
    "slideshow": {
     "slide_type": "fragment"
    }
   },
   "outputs": [
    {
     "name": "stdout",
     "output_type": "stream",
     "text": [
      "Chan\n",
      "Han\n",
      "Iun\n"
     ]
    }
   ],
   "source": [
    "samples('Chinese', 'CHI')"
   ]
  },
  {
   "cell_type": "code",
   "execution_count": 60,
   "metadata": {
    "slideshow": {
     "slide_type": "fragment"
    }
   },
   "outputs": [
    {
     "name": "stdout",
     "output_type": "stream",
     "text": [
      "Arter\n",
      "Deller\n",
      "Garere\n"
     ]
    }
   ],
   "source": [
    "samples('French', 'ADG')"
   ]
  },
  {
   "cell_type": "markdown",
   "metadata": {
    "slideshow": {
     "slide_type": "slide"
    }
   },
   "source": [
    "# Translation"
   ]
  },
  {
   "cell_type": "code",
   "execution_count": 62,
   "metadata": {
    "slideshow": {
     "slide_type": "skip"
    }
   },
   "outputs": [],
   "source": [
    "from __future__ import unicode_literals, print_function, division\n",
    "from io import open\n",
    "import unicodedata\n",
    "import string\n",
    "import re\n",
    "import random\n",
    "\n",
    "import torch\n",
    "import torch.nn as nn\n",
    "from torch import optim\n",
    "import torch.nn.functional as F\n",
    "\n",
    "device = torch.device(\"cuda\" if torch.cuda.is_available() else \"cpu\")\n"
   ]
  },
  {
   "cell_type": "code",
   "execution_count": 63,
   "metadata": {
    "slideshow": {
     "slide_type": "skip"
    }
   },
   "outputs": [],
   "source": [
    "SOS_token = 0\n",
    "EOS_token = 1\n",
    "\n",
    "\n",
    "class Lang:\n",
    "    def __init__(self, name):\n",
    "        self.name = name\n",
    "        self.word2index = {}\n",
    "        self.word2count = {}\n",
    "        self.index2word = {0: \"SOS\", 1: \"EOS\"}\n",
    "        self.n_words = 2  # Count SOS and EOS\n",
    "\n",
    "    def addSentence(self, sentence):\n",
    "        for word in sentence.split(' '):\n",
    "            self.addWord(word)\n",
    "\n",
    "    def addWord(self, word):\n",
    "        if word not in self.word2index:\n",
    "            self.word2index[word] = self.n_words\n",
    "            self.word2count[word] = 1\n",
    "            self.index2word[self.n_words] = word\n",
    "            self.n_words += 1\n",
    "        else:\n",
    "            self.word2count[word] += 1"
   ]
  },
  {
   "cell_type": "code",
   "execution_count": 64,
   "metadata": {
    "slideshow": {
     "slide_type": "skip"
    }
   },
   "outputs": [],
   "source": [
    "# Turn a Unicode string to plain ASCII, thanks to\n",
    "# https://stackoverflow.com/a/518232/2809427\n",
    "def unicodeToAscii(s):\n",
    "    return ''.join(\n",
    "        c for c in unicodedata.normalize('NFD', s)\n",
    "        if unicodedata.category(c) != 'Mn'\n",
    "    )\n",
    "\n",
    "# Lowercase, trim, and remove non-letter characters\n",
    "\n",
    "\n",
    "def normalizeString(s):\n",
    "    s = unicodeToAscii(s.lower().strip())\n",
    "    s = re.sub(r\"([.!?])\", r\" \\1\", s)\n",
    "    s = re.sub(r\"[^a-zA-Z.!?]+\", r\" \", s)\n",
    "    return s"
   ]
  },
  {
   "cell_type": "code",
   "execution_count": 65,
   "metadata": {
    "slideshow": {
     "slide_type": "skip"
    }
   },
   "outputs": [],
   "source": [
    "def readLangs(lang1, lang2, reverse=False):\n",
    "    print(\"Reading lines...\")\n",
    "\n",
    "    # Read the file and split into lines\n",
    "    lines = open('data/%s-%s.txt' % (lang1, lang2), encoding='utf-8').\\\n",
    "        read().strip().split('\\n')\n",
    "\n",
    "    # Split every line into pairs and normalize\n",
    "    pairs = [[normalizeString(s) for s in l.split('\\t')] for l in lines]\n",
    "\n",
    "    # Reverse pairs, make Lang instances\n",
    "    if reverse:\n",
    "        pairs = [list(reversed(p)) for p in pairs]\n",
    "        input_lang = Lang(lang2)\n",
    "        output_lang = Lang(lang1)\n",
    "    else:\n",
    "        input_lang = Lang(lang1)\n",
    "        output_lang = Lang(lang2)\n",
    "\n",
    "    return input_lang, output_lang, pairs"
   ]
  },
  {
   "cell_type": "code",
   "execution_count": 66,
   "metadata": {
    "slideshow": {
     "slide_type": "skip"
    }
   },
   "outputs": [],
   "source": [
    "MAX_LENGTH = 10\n",
    "\n",
    "eng_prefixes = (\n",
    "    \"i am \", \"i m \",\n",
    "    \"he is\", \"he s \",\n",
    "    \"she is\", \"she s \",\n",
    "    \"you are\", \"you re \",\n",
    "    \"we are\", \"we re \",\n",
    "    \"they are\", \"they re \"\n",
    ")\n",
    "\n",
    "\n",
    "def filterPair(p):\n",
    "    return len(p[0].split(' ')) < MAX_LENGTH and \\\n",
    "        len(p[1].split(' ')) < MAX_LENGTH and \\\n",
    "        p[1].startswith(eng_prefixes)\n",
    "\n",
    "\n",
    "def filterPairs(pairs):\n",
    "    return [pair for pair in pairs if filterPair(pair)]"
   ]
  },
  {
   "cell_type": "code",
   "execution_count": 67,
   "metadata": {
    "slideshow": {
     "slide_type": "skip"
    }
   },
   "outputs": [
    {
     "name": "stdout",
     "output_type": "stream",
     "text": [
      "Reading lines...\n",
      "Read 135842 sentence pairs\n",
      "Trimmed to 10599 sentence pairs\n",
      "Counting words...\n",
      "Counted words:\n",
      "fra 4345\n",
      "eng 2803\n",
      "['elle lui est apparentee par alliance .', 'she is related to him by marriage .']\n"
     ]
    }
   ],
   "source": [
    "def prepareData(lang1, lang2, reverse=False):\n",
    "    input_lang, output_lang, pairs = readLangs(lang1, lang2, reverse)\n",
    "    print(\"Read %s sentence pairs\" % len(pairs))\n",
    "    pairs = filterPairs(pairs)\n",
    "    print(\"Trimmed to %s sentence pairs\" % len(pairs))\n",
    "    print(\"Counting words...\")\n",
    "    for pair in pairs:\n",
    "        input_lang.addSentence(pair[0])\n",
    "        output_lang.addSentence(pair[1])\n",
    "    print(\"Counted words:\")\n",
    "    print(input_lang.name, input_lang.n_words)\n",
    "    print(output_lang.name, output_lang.n_words)\n",
    "    return input_lang, output_lang, pairs\n",
    "\n",
    "\n",
    "input_lang, output_lang, pairs = prepareData('eng', 'fra', True)\n",
    "print(random.choice(pairs))"
   ]
  },
  {
   "cell_type": "code",
   "execution_count": 68,
   "metadata": {
    "slideshow": {
     "slide_type": "skip"
    }
   },
   "outputs": [],
   "source": [
    "class EncoderRNN(nn.Module):\n",
    "    def __init__(self, input_size, hidden_size):\n",
    "        super(EncoderRNN, self).__init__()\n",
    "        self.hidden_size = hidden_size\n",
    "\n",
    "        self.embedding = nn.Embedding(input_size, hidden_size)\n",
    "        self.gru = nn.GRU(hidden_size, hidden_size)\n",
    "\n",
    "    def forward(self, input, hidden):\n",
    "        embedded = self.embedding(input).view(1, 1, -1)\n",
    "        output = embedded\n",
    "        output, hidden = self.gru(output, hidden)\n",
    "        return output, hidden\n",
    "\n",
    "    def initHidden(self):\n",
    "        return torch.zeros(1, 1, self.hidden_size, device=device)"
   ]
  },
  {
   "cell_type": "code",
   "execution_count": 69,
   "metadata": {
    "slideshow": {
     "slide_type": "skip"
    }
   },
   "outputs": [],
   "source": [
    "class DecoderRNN(nn.Module):\n",
    "    def __init__(self, hidden_size, output_size):\n",
    "        super(DecoderRNN, self).__init__()\n",
    "        self.hidden_size = hidden_size\n",
    "\n",
    "        self.embedding = nn.Embedding(output_size, hidden_size)\n",
    "        self.gru = nn.GRU(hidden_size, hidden_size)\n",
    "        self.out = nn.Linear(hidden_size, output_size)\n",
    "        self.softmax = nn.LogSoftmax(dim=1)\n",
    "\n",
    "    def forward(self, input, hidden):\n",
    "        output = self.embedding(input).view(1, 1, -1)\n",
    "        output = F.relu(output)\n",
    "        output, hidden = self.gru(output, hidden)\n",
    "        output = self.softmax(self.out(output[0]))\n",
    "        return output, hidden\n",
    "\n",
    "    def initHidden(self):\n",
    "        return torch.zeros(1, 1, self.hidden_size, device=device)"
   ]
  },
  {
   "cell_type": "code",
   "execution_count": 70,
   "metadata": {
    "slideshow": {
     "slide_type": "skip"
    }
   },
   "outputs": [],
   "source": [
    "class AttnDecoderRNN(nn.Module):\n",
    "    def __init__(self, hidden_size, output_size, dropout_p=0.1, max_length=MAX_LENGTH):\n",
    "        super(AttnDecoderRNN, self).__init__()\n",
    "        self.hidden_size = hidden_size\n",
    "        self.output_size = output_size\n",
    "        self.dropout_p = dropout_p\n",
    "        self.max_length = max_length\n",
    "\n",
    "        self.embedding = nn.Embedding(self.output_size, self.hidden_size)\n",
    "        self.attn = nn.Linear(self.hidden_size * 2, self.max_length)\n",
    "        self.attn_combine = nn.Linear(self.hidden_size * 2, self.hidden_size)\n",
    "        self.dropout = nn.Dropout(self.dropout_p)\n",
    "        self.gru = nn.GRU(self.hidden_size, self.hidden_size)\n",
    "        self.out = nn.Linear(self.hidden_size, self.output_size)\n",
    "\n",
    "    def forward(self, input, hidden, encoder_outputs):\n",
    "        embedded = self.embedding(input).view(1, 1, -1)\n",
    "        embedded = self.dropout(embedded)\n",
    "\n",
    "        attn_weights = F.softmax(\n",
    "            self.attn(torch.cat((embedded[0], hidden[0]), 1)), dim=1)\n",
    "        attn_applied = torch.bmm(attn_weights.unsqueeze(0),\n",
    "                                 encoder_outputs.unsqueeze(0))\n",
    "\n",
    "        output = torch.cat((embedded[0], attn_applied[0]), 1)\n",
    "        output = self.attn_combine(output).unsqueeze(0)\n",
    "\n",
    "        output = F.relu(output)\n",
    "        output, hidden = self.gru(output, hidden)\n",
    "\n",
    "        output = F.log_softmax(self.out(output[0]), dim=1)\n",
    "        return output, hidden, attn_weights\n",
    "\n",
    "    def initHidden(self):\n",
    "        return torch.zeros(1, 1, self.hidden_size, device=device)"
   ]
  },
  {
   "cell_type": "code",
   "execution_count": 71,
   "metadata": {
    "slideshow": {
     "slide_type": "skip"
    }
   },
   "outputs": [],
   "source": [
    "def indexesFromSentence(lang, sentence):\n",
    "    return [lang.word2index[word] for word in sentence.split(' ')]\n",
    "\n",
    "\n",
    "def tensorFromSentence(lang, sentence):\n",
    "    indexes = indexesFromSentence(lang, sentence)\n",
    "    indexes.append(EOS_token)\n",
    "    return torch.tensor(indexes, dtype=torch.long, device=device).view(-1, 1)\n",
    "\n",
    "\n",
    "def tensorsFromPair(pair):\n",
    "    input_tensor = tensorFromSentence(input_lang, pair[0])\n",
    "    target_tensor = tensorFromSentence(output_lang, pair[1])\n",
    "    return (input_tensor, target_tensor)"
   ]
  },
  {
   "cell_type": "code",
   "execution_count": 72,
   "metadata": {
    "slideshow": {
     "slide_type": "skip"
    }
   },
   "outputs": [],
   "source": [
    "teacher_forcing_ratio = 0.5\n",
    "\n",
    "\n",
    "def train(input_tensor, target_tensor, encoder, decoder, encoder_optimizer, decoder_optimizer, criterion, max_length=MAX_LENGTH):\n",
    "    encoder_hidden = encoder.initHidden()\n",
    "\n",
    "    encoder_optimizer.zero_grad()\n",
    "    decoder_optimizer.zero_grad()\n",
    "\n",
    "    input_length = input_tensor.size(0)\n",
    "    target_length = target_tensor.size(0)\n",
    "\n",
    "    encoder_outputs = torch.zeros(max_length, encoder.hidden_size, device=device)\n",
    "\n",
    "    loss = 0\n",
    "\n",
    "    for ei in range(input_length):\n",
    "        encoder_output, encoder_hidden = encoder(\n",
    "            input_tensor[ei], encoder_hidden)\n",
    "        encoder_outputs[ei] = encoder_output[0, 0]\n",
    "\n",
    "    decoder_input = torch.tensor([[SOS_token]], device=device)\n",
    "\n",
    "    decoder_hidden = encoder_hidden\n",
    "\n",
    "    use_teacher_forcing = True if random.random() < teacher_forcing_ratio else False\n",
    "\n",
    "    if use_teacher_forcing:\n",
    "        # Teacher forcing: Feed the target as the next input\n",
    "        for di in range(target_length):\n",
    "            decoder_output, decoder_hidden, decoder_attention = decoder(\n",
    "                decoder_input, decoder_hidden, encoder_outputs)\n",
    "            loss += criterion(decoder_output, target_tensor[di])\n",
    "            decoder_input = target_tensor[di]  # Teacher forcing\n",
    "\n",
    "    else:\n",
    "        # Without teacher forcing: use its own predictions as the next input\n",
    "        for di in range(target_length):\n",
    "            decoder_output, decoder_hidden, decoder_attention = decoder(\n",
    "                decoder_input, decoder_hidden, encoder_outputs)\n",
    "            topv, topi = decoder_output.topk(1)\n",
    "            decoder_input = topi.squeeze().detach()  # detach from history as input\n",
    "\n",
    "            loss += criterion(decoder_output, target_tensor[di])\n",
    "            if decoder_input.item() == EOS_token:\n",
    "                break\n",
    "\n",
    "    loss.backward()\n",
    "\n",
    "    encoder_optimizer.step()\n",
    "    decoder_optimizer.step()\n",
    "\n",
    "    return loss.item() / target_length"
   ]
  },
  {
   "cell_type": "code",
   "execution_count": 73,
   "metadata": {
    "slideshow": {
     "slide_type": "skip"
    }
   },
   "outputs": [],
   "source": [
    "import time\n",
    "import math\n",
    "\n",
    "\n",
    "def asMinutes(s):\n",
    "    m = math.floor(s / 60)\n",
    "    s -= m * 60\n",
    "    return '%dm %ds' % (m, s)\n",
    "\n",
    "\n",
    "def timeSince(since, percent):\n",
    "    now = time.time()\n",
    "    s = now - since\n",
    "    es = s / (percent)\n",
    "    rs = es - s\n",
    "    return '%s (- %s)' % (asMinutes(s), asMinutes(rs))"
   ]
  },
  {
   "cell_type": "code",
   "execution_count": 74,
   "metadata": {
    "slideshow": {
     "slide_type": "skip"
    }
   },
   "outputs": [],
   "source": [
    "def trainIters(encoder, decoder, n_iters, print_every=1000, plot_every=100, learning_rate=0.01):\n",
    "    start = time.time()\n",
    "    plot_losses = []\n",
    "    print_loss_total = 0  # Reset every print_every\n",
    "    plot_loss_total = 0  # Reset every plot_every\n",
    "\n",
    "    encoder_optimizer = optim.SGD(encoder.parameters(), lr=learning_rate)\n",
    "    decoder_optimizer = optim.SGD(decoder.parameters(), lr=learning_rate)\n",
    "    training_pairs = [tensorsFromPair(random.choice(pairs))\n",
    "                      for i in range(n_iters)]\n",
    "    criterion = nn.NLLLoss()\n",
    "\n",
    "    for iter in range(1, n_iters + 1):\n",
    "        training_pair = training_pairs[iter - 1]\n",
    "        input_tensor = training_pair[0]\n",
    "        target_tensor = training_pair[1]\n",
    "\n",
    "        loss = train(input_tensor, target_tensor, encoder,\n",
    "                     decoder, encoder_optimizer, decoder_optimizer, criterion)\n",
    "        print_loss_total += loss\n",
    "        plot_loss_total += loss\n",
    "\n",
    "        if iter % print_every == 0:\n",
    "            print_loss_avg = print_loss_total / print_every\n",
    "            print_loss_total = 0\n",
    "            print('%s (%d %d%%) %.4f' % (timeSince(start, iter / n_iters),\n",
    "                                         iter, iter / n_iters * 100, print_loss_avg))\n",
    "\n",
    "        if iter % plot_every == 0:\n",
    "            plot_loss_avg = plot_loss_total / plot_every\n",
    "            plot_losses.append(plot_loss_avg)\n",
    "            plot_loss_total = 0\n",
    "\n",
    "    showPlot(plot_losses)"
   ]
  },
  {
   "cell_type": "code",
   "execution_count": 75,
   "metadata": {
    "slideshow": {
     "slide_type": "skip"
    }
   },
   "outputs": [],
   "source": [
    "import matplotlib.pyplot as plt\n",
    "plt.switch_backend('agg')\n",
    "import matplotlib.ticker as ticker\n",
    "import numpy as np\n",
    "\n",
    "\n",
    "def showPlot(points):\n",
    "    plt.figure()\n",
    "    fig, ax = plt.subplots()\n",
    "    # this locator puts ticks at regular intervals\n",
    "    loc = ticker.MultipleLocator(base=0.2)\n",
    "    ax.yaxis.set_major_locator(loc)\n",
    "    plt.plot(points)"
   ]
  },
  {
   "cell_type": "code",
   "execution_count": 76,
   "metadata": {
    "slideshow": {
     "slide_type": "skip"
    }
   },
   "outputs": [],
   "source": [
    "def evaluate(encoder, decoder, sentence, max_length=MAX_LENGTH):\n",
    "    with torch.no_grad():\n",
    "        input_tensor = tensorFromSentence(input_lang, sentence)\n",
    "        input_length = input_tensor.size()[0]\n",
    "        encoder_hidden = encoder.initHidden()\n",
    "\n",
    "        encoder_outputs = torch.zeros(max_length, encoder.hidden_size, device=device)\n",
    "\n",
    "        for ei in range(input_length):\n",
    "            encoder_output, encoder_hidden = encoder(input_tensor[ei],\n",
    "                                                     encoder_hidden)\n",
    "            encoder_outputs[ei] += encoder_output[0, 0]\n",
    "\n",
    "        decoder_input = torch.tensor([[SOS_token]], device=device)  # SOS\n",
    "\n",
    "        decoder_hidden = encoder_hidden\n",
    "\n",
    "        decoded_words = []\n",
    "        decoder_attentions = torch.zeros(max_length, max_length)\n",
    "\n",
    "        for di in range(max_length):\n",
    "            decoder_output, decoder_hidden, decoder_attention = decoder(\n",
    "                decoder_input, decoder_hidden, encoder_outputs)\n",
    "            decoder_attentions[di] = decoder_attention.data\n",
    "            topv, topi = decoder_output.data.topk(1)\n",
    "            if topi.item() == EOS_token:\n",
    "                decoded_words.append('<EOS>')\n",
    "                break\n",
    "            else:\n",
    "                decoded_words.append(output_lang.index2word[topi.item()])\n",
    "\n",
    "            decoder_input = topi.squeeze().detach()\n",
    "\n",
    "        return decoded_words, decoder_attentions[:di + 1]"
   ]
  },
  {
   "cell_type": "code",
   "execution_count": 77,
   "metadata": {
    "slideshow": {
     "slide_type": "skip"
    }
   },
   "outputs": [],
   "source": [
    "def evaluateRandomly(encoder, decoder, n=10):\n",
    "    for i in range(n):\n",
    "        pair = random.choice(pairs)\n",
    "        print('>', pair[0])\n",
    "        print('=', pair[1])\n",
    "        output_words, attentions = evaluate(encoder, decoder, pair[0])\n",
    "        output_sentence = ' '.join(output_words)\n",
    "        print('<', output_sentence)\n",
    "        print('')"
   ]
  },
  {
   "cell_type": "code",
   "execution_count": 78,
   "metadata": {
    "slideshow": {
     "slide_type": "skip"
    }
   },
   "outputs": [
    {
     "name": "stdout",
     "output_type": "stream",
     "text": [
      "3m 54s (- 54m 45s) (5000 6%) 2.8304\n",
      "8m 9s (- 53m 0s) (10000 13%) 2.2767\n",
      "12m 14s (- 48m 59s) (15000 20%) 1.9638\n",
      "16m 30s (- 45m 23s) (20000 26%) 1.7347\n",
      "20m 58s (- 41m 56s) (25000 33%) 1.5058\n",
      "25m 12s (- 37m 49s) (30000 40%) 1.3611\n",
      "29m 29s (- 33m 42s) (35000 46%) 1.2166\n",
      "33m 17s (- 29m 7s) (40000 53%) 1.0626\n",
      "37m 4s (- 24m 42s) (45000 60%) 0.9901\n",
      "40m 48s (- 20m 24s) (50000 66%) 0.8771\n",
      "44m 38s (- 16m 13s) (55000 73%) 0.7956\n",
      "48m 27s (- 12m 6s) (60000 80%) 0.7203\n",
      "52m 11s (- 8m 1s) (65000 86%) 0.6642\n",
      "55m 59s (- 3m 59s) (70000 93%) 0.6056\n",
      "59m 51s (- 0m 0s) (75000 100%) 0.5438\n"
     ]
    },
    {
     "data": {
      "text/plain": [
       "<Figure size 432x288 with 0 Axes>"
      ]
     },
     "metadata": {},
     "output_type": "display_data"
    },
    {
     "data": {
      "image/png": "[encoded data removed]",
      "text/plain": [
       "<Figure size 432x288 with 1 Axes>"
      ]
     },
     "metadata": {
      "needs_background": "light"
     },
     "output_type": "display_data"
    }
   ],
   "source": [
    "hidden_size = 256\n",
    "encoder1 = EncoderRNN(input_lang.n_words, hidden_size).to(device)\n",
    "attn_decoder1 = AttnDecoderRNN(hidden_size, output_lang.n_words, dropout_p=0.1).to(device)\n",
    "\n",
    "trainIters(encoder1, attn_decoder1, 75000, print_every=5000)"
   ]
  },
  {
   "cell_type": "code",
   "execution_count": 79,
   "metadata": {
    "slideshow": {
     "slide_type": "subslide"
    }
   },
   "outputs": [
    {
     "name": "stdout",
     "output_type": "stream",
     "text": [
      "> nous sommes prets desormais .\n",
      "= we re ready now .\n",
      "< we re ready now . <EOS>\n",
      "\n",
      "> je suis electricien .\n",
      "= i am an electrician .\n",
      "< i am an electrician . <EOS>\n",
      "\n",
      "> tu es plus grand que moi .\n",
      "= you re taller than i am .\n",
      "< you re taller than i . <EOS>\n",
      "\n",
      "> ce sont mes amis .\n",
      "= they are my friends .\n",
      "< they re my friends . <EOS>\n",
      "\n",
      "> vous ne convenez pas .\n",
      "= you re not fit .\n",
      "< you re not following . <EOS>\n",
      "\n",
      "> ce n est pas mon cousin .\n",
      "= he s not my cousin .\n",
      "< he s not my my . <EOS>\n",
      "\n",
      "> je suis ravi de faire votre connaissance .\n",
      "= i m very pleased to meet you .\n",
      "< i m pleased to meet you from . <EOS>\n",
      "\n",
      "> vous etes une personne merveilleuse .\n",
      "= you re a wonderful guy .\n",
      "< you re a wonderful guy . <EOS>\n",
      "\n",
      "> il n est plus tout jeune .\n",
      "= he s not young anymore .\n",
      "< he is not young anymore . <EOS>\n",
      "\n",
      "> il a des ennuis .\n",
      "= he is in trouble .\n",
      "< he is in trouble . <EOS>\n",
      "\n"
     ]
    }
   ],
   "source": [
    "evaluateRandomly(encoder1, attn_decoder1)"
   ]
  },
  {
   "cell_type": "code",
   "execution_count": 94,
   "metadata": {
    "slideshow": {
     "slide_type": "subslide"
    }
   },
   "outputs": [
    {
     "data": {
      "text/plain": [
       "'i m done . <EOS>'"
      ]
     },
     "execution_count": 94,
     "metadata": {},
     "output_type": "execute_result"
    }
   ],
   "source": [
    "output_words, attentions = evaluate(encoder1, attn_decoder1, 'j ai fini')\n",
    "' '.join(output_words)"
   ]
  },
  {
   "cell_type": "code",
   "execution_count": 96,
   "metadata": {
    "slideshow": {
     "slide_type": "skip"
    }
   },
   "outputs": [],
   "source": [
    "def showAttention(input_sentence, output_words, attentions):\n",
    "    # Set up figure with colorbar\n",
    "    fig = plt.figure()\n",
    "    ax = fig.add_subplot(111)\n",
    "    cax = ax.matshow(attentions.numpy(), cmap='bone')\n",
    "    fig.colorbar(cax)\n",
    "\n",
    "    # Set up axes\n",
    "    ax.set_xticklabels([''] + input_sentence.split(' ') +\n",
    "                       ['<EOS>'], rotation=90)\n",
    "    ax.set_yticklabels([''] + output_words)\n",
    "\n",
    "    # Show label at every tick\n",
    "    ax.xaxis.set_major_locator(ticker.MultipleLocator(1))\n",
    "    ax.yaxis.set_major_locator(ticker.MultipleLocator(1))\n",
    "\n",
    "    plt.show()\n",
    "\n",
    "\n",
    "def evaluateAndShowAttention(input_sentence):\n",
    "    output_words, attentions = evaluate(\n",
    "        encoder1, attn_decoder1, input_sentence)\n",
    "    print('input =', input_sentence)\n",
    "    print('output =', ' '.join(output_words))\n",
    "    showAttention(input_sentence, output_words, attentions)"
   ]
  },
  {
   "cell_type": "code",
   "execution_count": 97,
   "metadata": {
    "slideshow": {
     "slide_type": "subslide"
    }
   },
   "outputs": [
    {
     "name": "stdout",
     "output_type": "stream",
     "text": [
      "input = elle a cinq ans de moins que moi .\n",
      "output = she is five years younger than me . <EOS>\n"
     ]
    },
    {
     "name": "stderr",
     "output_type": "stream",
     "text": [
      "/Users/remy.frenoy/Dev/BBL/essec_nlp_course/.venv/lib/python3.7/site-packages/ipykernel_launcher.py:17: UserWarning: Matplotlib is currently using agg, which is a non-GUI backend, so cannot show the figure.\n"
     ]
    },
    {
     "data": {
      "image/png": "[encoded data removed]",
      "text/plain": [
       "<Figure size 432x288 with 2 Axes>"
      ]
     },
     "metadata": {
      "needs_background": "light"
     },
     "output_type": "display_data"
    }
   ],
   "source": [
    "evaluateAndShowAttention(\"elle a cinq ans de moins que moi .\")"
   ]
  },
  {
   "cell_type": "markdown",
   "metadata": {
    "slideshow": {
     "slide_type": "slide"
    }
   },
   "source": [
    "# Conclusion and take aways"
   ]
  },
  {
   "cell_type": "markdown",
   "metadata": {
    "slideshow": {
     "slide_type": "fragment"
    }
   },
   "source": [
    "* NLP is a whole domain in the machine learning spectrum\n",
    "* The domain has its own challenges, mostly around the best way to numerically represent language\n",
    "* Be careful with the way you handle data, you can easily make performances drop with a single bad choice\n",
    "* Test your model for potential biases, see [Jigsaw Kaggle competition](https://www.kaggle.com/c/jigsaw-unintended-bias-in-toxicity-classification)"
   ]
  }
 ],
 "metadata": {
  "celltoolbar": "Diaporama",
  "kernelspec": {
   "display_name": "essec_course_env",
   "language": "python",
   "name": "essec_course_env"
  },
  "language_info": {
   "codemirror_mode": {
    "name": "ipython",
    "version": 3
   },
   "file_extension": ".py",
   "mimetype": "text/x-python",
   "name": "python",
   "nbconvert_exporter": "python",
   "pygments_lexer": "ipython3",
   "version": "3.7.3"
  }
 },
 "nbformat": 4,
 "nbformat_minor": 4
}
